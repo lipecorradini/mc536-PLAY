{
 "cells": [
  {
   "cell_type": "code",
   "execution_count": 1,
   "metadata": {},
   "outputs": [],
   "source": [
    "%defaultDatasource jdbc:h2:mem:db"
   ]
  },
  {
   "cell_type": "code",
   "execution_count": 20,
   "metadata": {},
   "outputs": [],
   "source": [
    "DROP TABLE IF EXISTS ingredientes_teste"
   ]
  },
  {
   "cell_type": "code",
   "execution_count": 24,
   "metadata": {},
   "outputs": [
    {
     "ename": "org.h2.jdbc.JdbcSQLException",
     "evalue": " Column \"Category\" not found; SQL statement",
     "output_type": "error",
     "traceback": [
      "\u001b[1;31morg.h2.jdbc.JdbcSQLException: Column \"Category\" not found; SQL statement:\u001b[0;0m",
      "\u001b[1;31mCREATE TABLE ingredients_teste (\u001b[0;0m",
      "\u001b[1;31mname VARCHAR(50),\u001b[0;0m",
      "\u001b[1;31msynonyms VARCHAR(50),\u001b[0;0m",
      "\u001b[1;31mid VARCHAR(4),\u001b[0;0m",
      "\u001b[1;31mcategory VARCHAR(50)\u001b[0;0m",
      "\u001b[1;31m) AS SELECT\u001b[0;0m",
      "\u001b[1;31m\"Aliased Ingredient Name\" AS name,\u001b[0;0m",
      "\u001b[1;31m\"Ingredient Synonyms\" AS synonyms,\u001b[0;0m",
      "\u001b[1;31m\"Entity ID\" AS id,\u001b[0;0m",
      "\u001b[1;31m\"Category\" AS category\u001b[0;0m",
      "\u001b[1;31mFROM CSVREAD('../databases/02_Ingredients.csv') [42122-193]\u001b[0;0m"
     ]
    }
   ],
   "source": [
    "CREATE TABLE ingredients_teste (\n",
    "    name VARCHAR(50),\n",
    "    synonyms VARCHAR(50),\n",
    "    id VARCHAR(4),\n",
    "    category VARCHAR(50)\n",
    ") AS SELECT\n",
    "    \"Aliased Ingredient Name\" AS name,\n",
    "    \"Ingredient Synonyms\" AS synonyms,\n",
    "    \"Entity ID\" AS id,\n",
    "    \"Category\" AS category\n",
    "FROM CSVREAD('../databases/02_Ingredients.csv');\n"
   ]
  },
  {
   "cell_type": "code",
   "execution_count": null,
   "metadata": {},
   "outputs": [],
   "source": [
    "CREATE TABLE Foodb_food_info (\n",
    "  id VARCHAR(5),\n",
    "    common_name VARCHAR(50),\n",
    "    scientific_name VARCHAR(50),\n",
    "    food_group VARCHAR(35),\n",
    "    food_subgroup VARCHAR(35),\n",
    "--     food types é uma opção, pois aí conseguiríamos unir os tipos\n",
    ") AS SELECT\n",
    "  id, name, name_scientific, food_group, food_subgroup\n",
    "FROM CSVREAD('../databases/Food.csv');"
   ]
  }
 ],
 "metadata": {
  "kernelspec": {
   "display_name": "SQL",
   "language": "SQL",
   "name": "sql"
  },
  "language_info": {
   "codemirror_mode": "sql",
   "file_extension": ".sql",
   "mimetype": "",
   "name": "SQL",
   "nbconverter_exporter": "",
   "version": ""
  },
  "toc": {
   "base_numbering": 1,
   "nav_menu": {},
   "number_sections": false,
   "sideBar": false,
   "skip_h1_title": false,
   "title_cell": "Table of Contents",
   "title_sidebar": "Contents",
   "toc_cell": false,
   "toc_position": {},
   "toc_section_display": false,
   "toc_window_display": false
  }
 },
 "nbformat": 4,
 "nbformat_minor": 2
}
