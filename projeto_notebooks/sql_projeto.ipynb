{
 "cells": [
  {
   "cell_type": "code",
   "execution_count": null,
   "metadata": {},
   "outputs": [],
   "source": [
    "%defaultDatasource jdbc:h2:mem:db"
   ]
  },
  {
   "cell_type": "markdown",
   "metadata": {},
   "source": [
    "## Ideia Geral\n",
    "\n",
    "- peguei os dados do foodprices, transformei na tabela food_info. porém, todos os preços dela estão nas moedas locais, então\n",
    "- procuramos uma tabela para fazer o cambio, e a melhor que achei foi a que está baixada em data. mas, essa tabela só está a de 2023"
   ]
  },
  {
   "cell_type": "code",
   "execution_count": null,
   "metadata": {},
   "outputs": [],
   "source": [
    "DROP TABLE IF EXISTIS Food_info\n",
    "CREATE TABLE Food_info (\n",
    "  country VARCHAR(35),\n",
    "    food_name VARCHAR(60),\n",
    "    country_abrv VARCHAR(3),\n",
    "    price FLOAT(3), /*o preco está na moeda própria do país, então precisamos relacionar todas com o dólar (usar o segundo que o dezin mandou)*/\n",
    "    year INTEGER(4)\n",
    ") AS SELECT\n",
    "  adm0_name, cm_name, cur_name, mp_price, mp_year\n",
    "FROM CSVREAD('./data/foodprices.csv');"
   ]
  },
  {
   "cell_type": "code",
   "execution_count": null,
   "metadata": {},
   "outputs": [],
   "source": [
    "CREATE TABLE CURRENCY23020 (\n",
    "    value_to_usd FLOAT(8),\n",
    ") AS SELECT \n",
    "    United States of America (1.00 USD) /* nao é coluna ainda, precisa formatar os dados*/\n",
    "FROM CSVREAD('./data/currencies.csv')"
   ]
  },
  {
   "cell_type": "code",
   "execution_count": null,
   "metadata": {},
   "outputs": [],
   "source": [
    "SELECT * FROM FOOD_INFO0907 LIMIT 50"
   ]
  },
  {
   "cell_type": "code",
   "execution_count": null,
   "metadata": {},
   "outputs": [],
   "source": [
    "SELECT * FROM Currencies WHERE YEAR > '2017' LIMIT 100"
   ]
  },
  {
   "cell_type": "code",
   "execution_count": null,
   "metadata": {},
   "outputs": [],
   "source": [
    "/*Tabela que relaciona cada alimento com eu preço médio, em cada país. Ainda podemos selecionar as datas desejadas \n",
    "(mais recentes, no caso) se desejado. ERRATA: os preços tão muito divergentes, provavelmente tem que levar outra \n",
    "variável em consideração*/\n",
    "SELECT F.food_name, F.country, F.YEAR ,AVG(F.price) AS PRICE_AVG\n",
    "FROM Food_info0907 F\n",
    "GROUP BY F.FOOD_NAME, F.country, F.YEAR\n",
    "HAVING F.year > 2017\n",
    "ORDER BY F.FOOD_NAME, F.COUNTRY, F.YEAR\n",
    "LIMIT 50"
   ]
  }
 ],
 "metadata": {
  "kernelspec": {
   "display_name": "SQL",
   "language": "SQL",
   "name": "sql"
  },
  "language_info": {
   "codemirror_mode": "sql",
   "file_extension": ".sql",
   "mimetype": "",
   "name": "SQL",
   "nbconverter_exporter": "",
   "version": ""
  },
  "toc": {
   "base_numbering": 1,
   "nav_menu": {},
   "number_sections": false,
   "sideBar": false,
   "skip_h1_title": false,
   "title_cell": "Table of Contents",
   "title_sidebar": "Contents",
   "toc_cell": false,
   "toc_position": {},
   "toc_section_display": false,
   "toc_window_display": false
  }
 },
 "nbformat": 4,
 "nbformat_minor": 2
}
