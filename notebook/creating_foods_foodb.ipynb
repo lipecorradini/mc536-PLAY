{
 "cells": [
  {
   "cell_type": "code",
   "execution_count": 1,
   "metadata": {
    "vscode": {
     "languageId": "sql"
    }
   },
   "outputs": [],
   "source": [
    "%defaultDatasource jdbc:h2:mem:db"
   ]
  },
  {
   "cell_type": "code",
   "execution_count": 2,
   "metadata": {
    "vscode": {
     "languageId": "sql"
    }
   },
   "outputs": [],
   "source": [
    "DROP TABLE IF EXISTS Foodb_food_info"
   ]
  },
  {
   "cell_type": "code",
   "execution_count": 3,
   "metadata": {
    "vscode": {
     "languageId": "sql"
    }
   },
   "outputs": [
    {
     "ename": "org.h2.jdbc.JdbcSQLException",
     "evalue": " IO Exception",
     "output_type": "error",
     "traceback": [
      "\u001b[1;31morg.h2.jdbc.JdbcSQLException: IO Exception: \"IOException reading ../databases/raw/Food.csv\"; SQL statement:\u001b[0;0m",
      "\u001b[1;31mCREATE TABLE Foodb_food_info (\u001b[0;0m",
      "\u001b[1;31mid VARCHAR(5),\u001b[0;0m",
      "\u001b[1;31mcommon_name VARCHAR(50),\u001b[0;0m",
      "\u001b[1;31mscientific_name VARCHAR(50),\u001b[0;0m",
      "\u001b[1;31mfood_group VARCHAR(35),\u001b[0;0m",
      "\u001b[1;31mfood_subgroup VARCHAR(35),\u001b[0;0m",
      "\u001b[1;31m) AS SELECT\u001b[0;0m",
      "\u001b[1;31mid, name, name_scientific, food_group, food_subgroup\u001b[0;0m",
      "\u001b[1;31mFROM CSVREAD('../databases/raw/Food.csv') [90028-193]\u001b[0;0m"
     ]
    }
   ],
   "source": [
    "CREATE TABLE Foodb_food_info (\n",
    "  id VARCHAR(5),\n",
    "    common_name VARCHAR(50),\n",
    "    scientific_name VARCHAR(50),\n",
    "    food_group VARCHAR(35),\n",
    "    food_subgroup VARCHAR(35),\n",
    "--     food types é uma opção, pois aí conseguiríamos unir os tipos\n",
    ") AS SELECT\n",
    "  id, name, name_scientific, food_group, food_subgroup\n",
    "FROM CSVREAD('../databases/raw/Food.csv');"
   ]
  },
  {
   "cell_type": "code",
   "execution_count": 4,
   "metadata": {
    "vscode": {
     "languageId": "sql"
    }
   },
   "outputs": [
    {
     "ename": "org.h2.jdbc.JdbcSQLException",
     "evalue": " Table \"FOODB_FOOD_INFO\" not found; SQL statement",
     "output_type": "error",
     "traceback": [
      "\u001b[1;31morg.h2.jdbc.JdbcSQLException: Table \"FOODB_FOOD_INFO\" not found; SQL statement:\u001b[0;0m",
      "\u001b[1;31mSELECT * FROM Foodb_food_info [42102-193]\u001b[0;0m"
     ]
    }
   ],
   "source": [
    "SELECT * FROM Foodb_food_info"
   ]
  },
  {
   "cell_type": "code",
   "execution_count": null,
   "metadata": {},
   "outputs": [],
   "source": []
  }
 ],
 "metadata": {
  "kernelspec": {
   "display_name": "SQL",
   "language": "SQL",
   "name": "sql"
  },
  "language_info": {
   "codemirror_mode": "sql",
   "file_extension": ".sql",
   "mimetype": "",
   "name": "SQL",
   "nbconverter_exporter": "",
   "version": ""
  },
  "toc": {
   "base_numbering": 1,
   "nav_menu": {},
   "number_sections": false,
   "sideBar": false,
   "skip_h1_title": false,
   "title_cell": "Table of Contents",
   "title_sidebar": "Contents",
   "toc_cell": false,
   "toc_position": {},
   "toc_section_display": false,
   "toc_window_display": false
  }
 },
 "nbformat": 4,
 "nbformat_minor": 2
}
