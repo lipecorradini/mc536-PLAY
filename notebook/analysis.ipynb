{
 "cells": [
  {
   "cell_type": "markdown",
   "metadata": {},
   "source": [
    "## Aqui, faremos análises"
   ]
  },
  {
   "cell_type": "code",
   "execution_count": 1,
   "metadata": {},
   "outputs": [],
   "source": [
    "%defaultDatasource jdbc:h2:mem:db"
   ]
  },
  {
   "cell_type": "markdown",
   "metadata": {},
   "source": [
    "Tabela das Receitas"
   ]
  },
  {
   "cell_type": "code",
   "execution_count": 2,
   "metadata": {},
   "outputs": [],
   "source": [
    "DROP VIEW IF EXISTS Recipes"
   ]
  },
  {
   "cell_type": "code",
   "execution_count": 3,
   "metadata": {},
   "outputs": [],
   "source": [
    "CREATE VIEW Recipes AS \n",
    "SELECT \"Recipe ID\" AS recipe_id, Cuisine\n",
    "FROM CSVREAD('../data/raw/01_Recipe_Details.csv');"
   ]
  },
  {
   "cell_type": "markdown",
   "metadata": {},
   "source": [
    "Tabela dos Ingredientes"
   ]
  },
  {
   "cell_type": "code",
   "execution_count": 4,
   "metadata": {},
   "outputs": [],
   "source": [
    "DROP TABLE IF EXISTS Ingredients"
   ]
  },
  {
   "cell_type": "code",
   "execution_count": 5,
   "metadata": {},
   "outputs": [],
   "source": [
    "CREATE VIEW Ingredients AS \n",
    "SELECT *\n",
    "FROM CSVREAD('../data/raw/02_Ingredients.csv');"
   ]
  },
  {
   "cell_type": "markdown",
   "metadata": {},
   "source": [
    "Tabela de ligação entre receitas e ingredientes"
   ]
  },
  {
   "cell_type": "code",
   "execution_count": 6,
   "metadata": {},
   "outputs": [],
   "source": [
    "DROP TABLE IF EXISTS Recipes_Ingredients"
   ]
  },
  {
   "cell_type": "code",
   "execution_count": 7,
   "metadata": {},
   "outputs": [],
   "source": [
    "CREATE VIEW Recipes_Ingredients AS\n",
    "SELECT \"Recipe ID\" AS recipe_id, \"Entity ID\" as ingredient_id\n",
    "FROM CSVREAD('../data/raw/04_Recipe-Ingredients_Aliases.csv');"
   ]
  },
  {
   "cell_type": "markdown",
   "metadata": {},
   "source": [
    "Tabela de ligação entre Foodb e ingredientes"
   ]
  },
  {
   "cell_type": "code",
   "execution_count": 8,
   "metadata": {},
   "outputs": [],
   "source": [
    "DROP TABLE IF EXISTS Determining_Ingredient_Group"
   ]
  },
  {
   "cell_type": "code",
   "execution_count": 9,
   "metadata": {},
   "outputs": [],
   "source": [
    "CREATE VIEW Determining_Ingredient_Group AS\n",
    "SELECT *\n",
    "FROM CSVREAD('../data/interim/Ingredients_to_Foodb_Groups.csv');"
   ]
  },
  {
   "cell_type": "markdown",
   "metadata": {},
   "source": [
    "Tabela de ligação entre país e região"
   ]
  },
  {
   "cell_type": "code",
   "execution_count": 10,
   "metadata": {},
   "outputs": [],
   "source": [
    "DROP TABLE IF EXISTS COUNTRIES"
   ]
  },
  {
   "cell_type": "code",
   "execution_count": 11,
   "metadata": {},
   "outputs": [],
   "source": [
    "CREATE VIEW Countries AS\n",
    "SELECT Country, \"World Region\" AS region\n",
    "FROM CSVREAD('../data/interim/CountriesTable.csv');"
   ]
  },
  {
   "cell_type": "markdown",
   "metadata": {},
   "source": [
    "Criando tabela do food prices"
   ]
  },
  {
   "cell_type": "code",
   "execution_count": 35,
   "metadata": {},
   "outputs": [],
   "source": [
    "DROP TABLE IF EXISTS prices"
   ]
  },
  {
   "cell_type": "code",
   "execution_count": 36,
   "metadata": {},
   "outputs": [],
   "source": [
    "CREATE TABLE Prices AS\n",
    "SELECT \"Country Name\" AS country, \"Series Name\" AS category, \"2017 [YR2017]\" AS price\n",
    "FROM CSVREAD('../data/raw/Food_Prices_Data.csv');"
   ]
  },
  {
   "cell_type": "markdown",
   "metadata": {},
   "source": [
    "Atualizando os valores dos preços para float, e colocando como 0 os que não tem dados"
   ]
  },
  {
   "cell_type": "code",
   "execution_count": 38,
   "metadata": {},
   "outputs": [],
   "source": [
    "UPDATE Prices\n",
    "SET price = CASE \n",
    "                    WHEN price = '..' THEN 0\n",
    "                    WHEN price NOT LIKE '%[^0-9.]%' THEN CAST(price AS FLOAT)\n",
    "                    ELSE price\n",
    "                END;\n"
   ]
  },
  {
   "cell_type": "markdown",
   "metadata": {},
   "source": [
    "Criando"
   ]
  },
  {
   "cell_type": "code",
   "execution_count": 49,
   "metadata": {},
   "outputs": [],
   "source": [
    "DROP TABLE IF EXISTS Prices_per_Region"
   ]
  },
  {
   "cell_type": "code",
   "execution_count": 50,
   "metadata": {},
   "outputs": [],
   "source": [
    "CREATE TABLE Prices_per_Region AS \n",
    "SELECT DISTINCT C.region, AVG(COALESCE(CAST(price AS FLOAT), 0)) AS average_price, P.category\n",
    "FROM Countries C, Prices P\n",
    "WHERE C.Country = P.country \n",
    "GROUP BY C.region, P.category\n",
    "ORDER BY region"
   ]
  },
  {
   "cell_type": "code",
   "execution_count": 52,
   "metadata": {},
   "outputs": [
    {
     "data": {
      "text/plain": [
       "120"
      ]
     },
     "execution_count": 52,
     "metadata": {},
     "output_type": "execute_result"
    }
   ],
   "source": [
    "CALL CSVWRITE('../data/interim/Category_Prices_per_Region.csv', 'SELECT * FROM Prices_per_Region');"
   ]
  }
 ],
 "metadata": {
  "kernelspec": {
   "display_name": "SQL",
   "language": "SQL",
   "name": "sql"
  },
  "language_info": {
   "codemirror_mode": "sql",
   "file_extension": ".sql",
   "mimetype": "",
   "name": "SQL",
   "nbconverter_exporter": "",
   "version": ""
  },
  "toc": {
   "base_numbering": 1,
   "nav_menu": {},
   "number_sections": false,
   "sideBar": false,
   "skip_h1_title": false,
   "title_cell": "Table of Contents",
   "title_sidebar": "Contents",
   "toc_cell": false,
   "toc_position": {},
   "toc_section_display": false,
   "toc_window_display": false
  }
 },
 "nbformat": 4,
 "nbformat_minor": 2
}
