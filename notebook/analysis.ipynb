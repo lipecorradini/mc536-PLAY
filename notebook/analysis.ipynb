{
 "cells": [
  {
   "cell_type": "markdown",
   "metadata": {},
   "source": [
    "## Aqui, trabalharemos nas nossas análises"
   ]
  },
  {
   "cell_type": "code",
   "execution_count": 1,
   "metadata": {},
   "outputs": [],
   "source": [
    "%defaultDatasource jdbc:h2:mem:db"
   ]
  },
  {
   "cell_type": "markdown",
   "metadata": {},
   "source": [
    "Tabela das Receitas"
   ]
  },
  {
   "cell_type": "code",
   "execution_count": 2,
   "metadata": {},
   "outputs": [],
   "source": [
    "DROP VIEW IF EXISTS Recipes"
   ]
  },
  {
   "cell_type": "code",
   "execution_count": 3,
   "metadata": {},
   "outputs": [],
   "source": [
    "CREATE VIEW Recipes AS \n",
    "SELECT \"Recipe ID\" AS recipe_id, Cuisine\n",
    "FROM CSVREAD('../data/raw/01_Recipe_Details.csv');"
   ]
  },
  {
   "cell_type": "markdown",
   "metadata": {},
   "source": [
    "Tabela dos Ingredientes"
   ]
  },
  {
   "cell_type": "code",
   "execution_count": 4,
   "metadata": {},
   "outputs": [],
   "source": [
    "DROP TABLE IF EXISTS Ingredients"
   ]
  },
  {
   "cell_type": "code",
   "execution_count": 5,
   "metadata": {},
   "outputs": [],
   "source": [
    "CREATE VIEW Ingredients AS \n",
    "SELECT *\n",
    "FROM CSVREAD('../data/raw/02_Ingredients.csv');"
   ]
  },
  {
   "cell_type": "markdown",
   "metadata": {},
   "source": [
    "Tabela de ligação entre receitas e ingredientes"
   ]
  },
  {
   "cell_type": "code",
   "execution_count": 6,
   "metadata": {},
   "outputs": [],
   "source": [
    "DROP TABLE IF EXISTS Recipes_Ingredients"
   ]
  },
  {
   "cell_type": "code",
   "execution_count": 7,
   "metadata": {},
   "outputs": [],
   "source": [
    "CREATE VIEW Recipes_Ingredients AS\n",
    "SELECT \"Recipe ID\" AS recipe_id, \"Entity ID\" as ingredient_id\n",
    "FROM CSVREAD('../data/raw/04_Recipe-Ingredients_Aliases.csv');"
   ]
  },
  {
   "cell_type": "markdown",
   "metadata": {},
   "source": [
    "Tabela de ligação entre Foodb e ingredientes"
   ]
  },
  {
   "cell_type": "code",
   "execution_count": 8,
   "metadata": {},
   "outputs": [],
   "source": [
    "DROP TABLE IF EXISTS Determining_Ingredient_Group"
   ]
  },
  {
   "cell_type": "code",
   "execution_count": 9,
   "metadata": {},
   "outputs": [],
   "source": [
    "CREATE VIEW Determining_Ingredient_Group AS\n",
    "SELECT *\n",
    "FROM CSVREAD('../data/interim/Ingredients_to_Foodb_Groups.csv');"
   ]
  },
  {
   "cell_type": "markdown",
   "metadata": {},
   "source": [
    "Tabela de ligação entre país e região"
   ]
  },
  {
   "cell_type": "code",
   "execution_count": 10,
   "metadata": {},
   "outputs": [],
   "source": [
    "DROP TABLE IF EXISTS COUNTRIES"
   ]
  },
  {
   "cell_type": "code",
   "execution_count": 11,
   "metadata": {},
   "outputs": [],
   "source": [
    "CREATE VIEW Countries AS\n",
    "SELECT Country, \"World Region\" AS region\n",
    "FROM CSVREAD('../data/interim/CountriesTable.csv');"
   ]
  },
  {
   "cell_type": "markdown",
   "metadata": {},
   "source": [
    "Criando tabela do food prices"
   ]
  },
  {
   "cell_type": "code",
   "execution_count": 12,
   "metadata": {},
   "outputs": [],
   "source": [
    "DROP TABLE IF EXISTS prices"
   ]
  },
  {
   "cell_type": "code",
   "execution_count": 13,
   "metadata": {},
   "outputs": [],
   "source": [
    "CREATE TABLE Prices AS\n",
    "SELECT \"Country Name\" AS country, \"Series Name\" AS category, \"2017 [YR2017]\" AS price\n",
    "FROM CSVREAD('../data/raw/Food_Prices_Data.csv');"
   ]
  },
  {
   "cell_type": "markdown",
   "metadata": {},
   "source": [
    "Atualizando os valores dos preços para float, e colocando como 0 os que não tem dados"
   ]
  },
  {
   "cell_type": "code",
   "execution_count": 14,
   "metadata": {},
   "outputs": [],
   "source": [
    "UPDATE Prices\n",
    "SET price = CASE \n",
    "                    WHEN price = '..' THEN 0\n",
    "                    WHEN price NOT LIKE '%[^0-9.]%' THEN CAST(price AS FLOAT)\n",
    "                    ELSE price\n",
    "                END;\n"
   ]
  },
  {
   "cell_type": "markdown",
   "metadata": {},
   "source": [
    "Criando uma tabela de preços de categoria por região"
   ]
  },
  {
   "cell_type": "code",
   "execution_count": 15,
   "metadata": {},
   "outputs": [],
   "source": [
    "DROP TABLE IF EXISTS Prices_per_Region"
   ]
  },
  {
   "cell_type": "code",
   "execution_count": 16,
   "metadata": {},
   "outputs": [],
   "source": [
    "CREATE TABLE Prices_per_Region AS \n",
    "SELECT DISTINCT C.region, AVG(COALESCE(CAST(price AS FLOAT), 0)) AS average_price, P.category\n",
    "FROM Countries C, Prices P\n",
    "WHERE C.Country = P.country \n",
    "GROUP BY C.region, P.category\n",
    "ORDER BY region"
   ]
  },
  {
   "cell_type": "code",
   "execution_count": 17,
   "metadata": {},
   "outputs": [
    {
     "data": {
      "text/plain": [
       "120"
      ]
     },
     "execution_count": 17,
     "metadata": {},
     "output_type": "execute_result"
    }
   ],
   "source": [
    "CALL CSVWRITE('../data/interim/Category_Prices_per_Region.csv', 'SELECT * FROM Prices_per_Region');"
   ]
  },
  {
   "cell_type": "markdown",
   "metadata": {},
   "source": [
    "Criando tabela de Receitas por Região"
   ]
  },
  {
   "cell_type": "code",
   "execution_count": 18,
   "metadata": {},
   "outputs": [],
   "source": [
    "CREATE VIEW Recipes_per_Region AS\n",
    "SELECT R.recipe_id, PR.region\n",
    "FROM Recipes R, Prices_per_Region PR\n",
    "WHERE R.Cuisine = PR.region\n",
    "LIMIT 5000"
   ]
  },
  {
   "cell_type": "markdown",
   "metadata": {},
   "source": [
    "Carregando a tabela de Foodb_to_Prices"
   ]
  },
  {
   "cell_type": "code",
   "execution_count": 19,
   "metadata": {},
   "outputs": [],
   "source": [
    "CREATE VIEW Foodb_to_Prices AS\n",
    "SELECT *\n",
    "FROM CSVREAD('../data/interim/Foodb_to_Food_Prices.csv');"
   ]
  },
  {
   "cell_type": "code",
   "execution_count": 20,
   "metadata": {},
   "outputs": [],
   "source": [
    "CREATE VIEW Category_of_Ingredients AS\n",
    "SELECT D.id, F.series_name\n",
    "FROM Determining_Ingredient_Group D, Foodb_to_Prices F\n",
    "WHERE D.food_group = F.food_group"
   ]
  },
  {
   "cell_type": "markdown",
   "metadata": {},
   "source": [
    "Criando uma tabela que, para cada ingrediente, para cada receita, temos a categoria do ingrediente (para podermos analisar o seu preço)"
   ]
  },
  {
   "cell_type": "code",
   "execution_count": 21,
   "metadata": {},
   "outputs": [],
   "source": [
    "CREATE VIEW Ingredients_Series_per_Recipes AS\n",
    "SELECT RI.recipe_id, CI.series_name\n",
    "FROM Recipes_Ingredients RI, Category_of_Ingredients CI\n",
    "WHERE RI.ingredient_id = CI.id"
   ]
  },
  {
   "cell_type": "markdown",
   "metadata": {},
   "source": [
    "SELECT RR.region, IR.recipe_id, AVG(PR.average_price) as Recipe_Cost\n",
    "FROM Recipes_per_Region RR, Ingredients_Series_per_Recipes IR, Prices_per_Region PR\n",
    "WHERE RR.recipe_id = IR.recipe_id AND RR.region = PR.region AND IR.series_name = PR.category\n",
    "GROUP BY RR.recipe_id, RR.region"
   ]
  },
  {
   "cell_type": "markdown",
   "metadata": {},
   "source": [
    "Obs: todas as vezes que tentamos criar alguma relação de avaliar todos os ingredientes de uma receita, a tabela demora muito para baixar, por isso dificulta nossa análise"
   ]
  }
 ],
 "metadata": {
  "kernelspec": {
   "display_name": "SQL",
   "language": "SQL",
   "name": "sql"
  },
  "language_info": {
   "codemirror_mode": "sql",
   "file_extension": ".sql",
   "mimetype": "",
   "name": "SQL",
   "nbconverter_exporter": "",
   "version": ""
  },
  "toc": {
   "base_numbering": 1,
   "nav_menu": {},
   "number_sections": false,
   "sideBar": false,
   "skip_h1_title": false,
   "title_cell": "Table of Contents",
   "title_sidebar": "Contents",
   "toc_cell": false,
   "toc_position": {},
   "toc_section_display": false,
   "toc_window_display": false
  }
 },
 "nbformat": 4,
 "nbformat_minor": 2
}
