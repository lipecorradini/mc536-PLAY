{
 "cells": [
  {
   "cell_type": "code",
   "execution_count": 1,
   "metadata": {},
   "outputs": [],
   "source": [
    "%defaultDatasource jdbc:h2:mem:db"
   ]
  },
  {
   "cell_type": "code",
   "execution_count": 2,
   "metadata": {},
   "outputs": [],
   "source": [
    "DROP TABLE IF EXISTS ingredients_group"
   ]
  },
  {
   "cell_type": "code",
   "execution_count": 3,
   "metadata": {},
   "outputs": [],
   "source": [
    "CREATE TABLE ingredients_group (\n",
    "    name VARCHAR(50),\n",
    "    synonyms VARCHAR(200),\n",
    "    id VARCHAR(4),\n",
    "    category VARCHAR(50)\n",
    ") AS SELECT\n",
    "    \"Aliased Ingredient Name\" AS name,\n",
    "    \"Ingredient Synonyms\" AS synonyms,\n",
    "    \"Entity ID\" AS id,\n",
    "    \"CATEGORY\" AS category\n",
    "FROM CSVREAD('../data/raw/02_Ingredients.csv');"
   ]
  },
  {
   "cell_type": "code",
   "execution_count": 20,
   "metadata": {},
   "outputs": [],
   "source": [
    "ALTER TABLE ingredients_group\n",
    "ADD food_group VARCHAR(200) NULL;"
   ]
  },
  {
   "cell_type": "code",
   "execution_count": 21,
   "metadata": {},
   "outputs": [
    {
     "data": {
      "application/vnd.jupyter.widget-view+json": {
       "model_id": "96172201-6771-42dc-ab48-28e50c8e4ed0",
       "version_major": 2,
       "version_minor": 0
      },
      "method": "display_data"
     },
     "metadata": {},
     "output_type": "display_data"
    }
   ],
   "source": [
    "SELECT * FROM ingredients_group"
   ]
  },
  {
   "cell_type": "code",
   "execution_count": 6,
   "metadata": {},
   "outputs": [
    {
     "ename": "org.h2.jdbc.JdbcSQLException",
     "evalue": " View \"FOODB_GROUPS\" already exists; SQL statement",
     "output_type": "error",
     "traceback": [
      "\u001b[1;31morg.h2.jdbc.JdbcSQLException: View \"FOODB_GROUPS\" already exists; SQL statement:\u001b[0;0m",
      "\u001b[1;31mCREATE VIEW Foodb_groups AS\u001b[0;0m",
      "\u001b[1;31mSELECT food_group, food_subgroup\u001b[0;0m",
      "\u001b[1;31mFROM CSVREAD('../data/interim/Foods_Foodb.csv') [90038-193]\u001b[0;0m"
     ]
    }
   ],
   "source": [
    "\n",
    "CREATE VIEW Foodb_groups AS \n",
    "SELECT food_group, food_subgroup \n",
    "FROM CSVREAD('../data/interim/Foods_Foodb.csv');"
   ]
  },
  {
   "cell_type": "code",
   "execution_count": 23,
   "metadata": {},
   "outputs": [],
   "source": [
    "UPDATE ingredients_group\n",
    "SET food_group='Cereals and cereal products'\n",
    "WHERE category='Bakery'"
   ]
  },
  {
   "cell_type": "code",
   "execution_count": 24,
   "metadata": {},
   "outputs": [
    {
     "data": {
      "application/vnd.jupyter.widget-view+json": {
       "model_id": "c61dd64b-f159-45a8-8279-06d7b4893ca5",
       "version_major": 2,
       "version_minor": 0
      },
      "method": "display_data"
     },
     "metadata": {},
     "output_type": "display_data"
    }
   ],
   "source": [
    "SELECT * FROM ingredients_group"
   ]
  },
  {
   "cell_type": "code",
   "execution_count": 25,
   "metadata": {},
   "outputs": [],
   "source": [
    "UPDATE ingredients_group\n",
    "SET food_group='Animal foods'\n",
    "WHERE category='Meat'"
   ]
  },
  {
   "cell_type": "code",
   "execution_count": 26,
   "metadata": {},
   "outputs": [
    {
     "data": {
      "application/vnd.jupyter.widget-view+json": {
       "model_id": "1fe91109-a0fa-4fef-b750-3752c2213c3c",
       "version_major": 2,
       "version_minor": 0
      },
      "method": "display_data"
     },
     "metadata": {},
     "output_type": "display_data"
    }
   ],
   "source": [
    "SELECT * FROM ingredients_group"
   ]
  },
  {
   "cell_type": "code",
   "execution_count": 28,
   "metadata": {},
   "outputs": [],
   "source": [
    "UPDATE ingredients_group\n",
    "SET food_group='Beverages'\n",
    "WHERE category='Beverage Alcoholic'"
   ]
  },
  {
   "cell_type": "code",
   "execution_count": 29,
   "metadata": {},
   "outputs": [],
   "source": [
    "UPDATE ingredients_group\n",
    "SET food_group='Vegetables'\n",
    "WHERE category='Vegetable'"
   ]
  },
  {
   "cell_type": "code",
   "execution_count": 30,
   "metadata": {},
   "outputs": [],
   "source": [
    "UPDATE ingredients_group\n",
    "SET food_group='Herbs and Spices'\n",
    "WHERE category='Spice'"
   ]
  },
  {
   "cell_type": "code",
   "execution_count": 31,
   "metadata": {},
   "outputs": [],
   "source": [
    "UPDATE ingredients_group\n",
    "SET food_group='Cereals and cereal products'\n",
    "WHERE category='Cereal'"
   ]
  },
  {
   "cell_type": "code",
   "execution_count": 32,
   "metadata": {},
   "outputs": [],
   "source": [
    "UPDATE ingredients_group\n",
    "SET food_group='Vegetables'\n",
    "WHERE category='Plant'"
   ]
  },
  {
   "cell_type": "code",
   "execution_count": 33,
   "metadata": {},
   "outputs": [],
   "source": [
    "UPDATE ingredients_group\n",
    "SET food_group='Fruits'\n",
    "WHERE category='Fruit'"
   ]
  },
  {
   "cell_type": "code",
   "execution_count": 34,
   "metadata": {},
   "outputs": [],
   "source": [
    "UPDATE ingredients_group\n",
    "SET food_group='Herbs and Spices'\n",
    "WHERE category='Herb'"
   ]
  },
  {
   "cell_type": "code",
   "execution_count": 35,
   "metadata": {},
   "outputs": [],
   "source": [
    "UPDATE ingredients_group\n",
    "SET food_group='Dishes'\n",
    "WHERE category='Dish'"
   ]
  },
  {
   "cell_type": "code",
   "execution_count": 37,
   "metadata": {},
   "outputs": [],
   "source": [
    "UPDATE ingredients_group\n",
    "SET food_group='Aquatic foods'\n",
    "WHERE category='Fish'"
   ]
  },
  {
   "cell_type": "code",
   "execution_count": 38,
   "metadata": {},
   "outputs": [],
   "source": [
    "UPDATE ingredients_group\n",
    "SET food_group='Aquatic foods'\n",
    "WHERE category='Seafood'"
   ]
  },
  {
   "cell_type": "code",
   "execution_count": 39,
   "metadata": {},
   "outputs": [],
   "source": [
    "UPDATE ingredients_group\n",
    "SET food_group='Nuts'\n",
    "WHERE category='Nuts & Seed'"
   ]
  },
  {
   "cell_type": "code",
   "execution_count": 40,
   "metadata": {},
   "outputs": [],
   "source": [
    "UPDATE ingredients_group\n",
    "SET food_group='Herbs and Spices'\n",
    "WHERE category='Legume' OR category='Flower'"
   ]
  },
  {
   "cell_type": "code",
   "execution_count": 41,
   "metadata": {},
   "outputs": [
    {
     "data": {
      "application/vnd.jupyter.widget-view+json": {
       "model_id": "79b9cb33-cbaa-4853-925f-6b28e4bcf0c3",
       "version_major": 2,
       "version_minor": 0
      },
      "method": "display_data"
     },
     "metadata": {},
     "output_type": "display_data"
    }
   ],
   "source": [
    "SELECT * FROM ingredients_group"
   ]
  },
  {
   "cell_type": "code",
   "execution_count": 42,
   "metadata": {},
   "outputs": [],
   "source": [
    "UPDATE ingredients_group\n",
    "SET food_group='Teas'\n",
    "WHERE category='Beverage'"
   ]
  },
  {
   "cell_type": "code",
   "execution_count": 43,
   "metadata": {},
   "outputs": [],
   "source": [
    "UPDATE ingredients_group\n",
    "SET food_group='Cereals and cereal products'\n",
    "WHERE category='Maize'"
   ]
  },
  {
   "cell_type": "code",
   "execution_count": 44,
   "metadata": {},
   "outputs": [],
   "source": [
    "UPDATE ingredients_group\n",
    "SET food_group='Animal foods'\n",
    "WHERE category='Dairy'"
   ]
  },
  {
   "cell_type": "code",
   "execution_count": 45,
   "metadata": {},
   "outputs": [],
   "source": [
    "UPDATE ingredients_group\n",
    "SET food_group='Fats and oils'\n",
    "WHERE category='Essential Oil'"
   ]
  },
  {
   "cell_type": "code",
   "execution_count": 47,
   "metadata": {},
   "outputs": [],
   "source": [
    "UPDATE ingredients_group\n",
    "SET food_group='Mushrooms'\n",
    "WHERE category='Fungus'"
   ]
  },
  {
   "cell_type": "code",
   "execution_count": 48,
   "metadata": {},
   "outputs": [],
   "source": [
    "UPDATE ingredients_group\n",
    "SET food_group='Baking goods'\n",
    "WHERE category='Additive'"
   ]
  },
  {
   "cell_type": "code",
   "execution_count": 51,
   "metadata": {},
   "outputs": [],
   "source": [
    "SELECT * FROM ingredients_group \n",
    "WHERE food_group = null"
   ]
  }
 ],
 "metadata": {
  "kernelspec": {
   "display_name": "SQL",
   "language": "SQL",
   "name": "sql"
  },
  "language_info": {
   "codemirror_mode": "sql",
   "file_extension": ".sql",
   "mimetype": "",
   "name": "SQL",
   "nbconverter_exporter": "",
   "version": ""
  },
  "toc": {
   "base_numbering": 1,
   "nav_menu": {},
   "number_sections": false,
   "sideBar": false,
   "skip_h1_title": false,
   "title_cell": "Table of Contents",
   "title_sidebar": "Contents",
   "toc_cell": false,
   "toc_position": {},
   "toc_section_display": false,
   "toc_window_display": false
  }
 },
 "nbformat": 4,
 "nbformat_minor": 2
}
