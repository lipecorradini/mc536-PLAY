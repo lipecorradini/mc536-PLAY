{
 "cells": [
  {
   "cell_type": "code",
   "execution_count": 3,
   "metadata": {
    "vscode": {
     "languageId": "sql"
    }
   },
   "outputs": [],
   "source": [
    "%defaultDatasource jdbc:h2:mem:db"
   ]
  },
  {
   "cell_type": "code",
   "execution_count": 30,
   "metadata": {
    "vscode": {
     "languageId": "sql"
    }
   },
   "outputs": [],
   "source": [
    "DROP TABLE IF EXISTS Foodb_food_info"
   ]
  },
  {
   "cell_type": "code",
   "execution_count": 34,
   "metadata": {
    "vscode": {
     "languageId": "sql"
    }
   },
   "outputs": [],
   "source": [
    "CREATE TABLE Foodb_food_info (\n",
    "  id VARCHAR(5),\n",
    "    common_name VARCHAR(50),\n",
    "    scientific_name VARCHAR(50),\n",
    "    food_group VARCHAR(35),\n",
    "    food_subgroup VARCHAR(35),\n",
    "--     food types é uma opção, pois aí conseguiríamos unir os tipos\n",
    ") AS SELECT\n",
    "  id, name, name_scientific, food_group, food_subgroup\n",
    "FROM CSVREAD('../databases/raw/Food.csv');"
   ]
  },
  {
   "cell_type": "code",
   "execution_count": 35,
   "metadata": {
    "vscode": {
     "languageId": "sql"
    }
   },
   "outputs": [
    {
     "data": {
      "application/vnd.code.notebook.error": {
       "message": "INVALID mime type: method. Must be in the format \"type/subtype[;optionalparameter]\"",
       "name": "Error",
       "stack": "Error: INVALID mime type: method. Must be in the format \"type/subtype[;optionalparameter]\"\n\tat new $t (/usr/share/code/resources/app/out/vs/workbench/api/node/extensionHostProcess.js:94:54873)\n\tat $t.text (/usr/share/code/resources/app/out/vs/workbench/api/node/extensionHostProcess.js:94:54671)\n\tat i (/usr/share/code/resources/app/extensions/ipynb/dist/ipynbMain.js:1:143444)\n\tat l (/usr/share/code/resources/app/extensions/ipynb/dist/ipynbMain.js:1:144220)\n\tat h (/usr/share/code/resources/app/extensions/ipynb/dist/ipynbMain.js:1:144970)\n\tat Array.map (<anonymous>)\n\tat /usr/share/code/resources/app/extensions/ipynb/dist/ipynbMain.js:1:146138\n\tat /usr/share/code/resources/app/extensions/ipynb/dist/ipynbMain.js:1:146455\n\tat /usr/share/code/resources/app/extensions/ipynb/dist/ipynbMain.js:1:146462\n\tat Array.map (<anonymous>)\n\tat e.jupyterNotebookModelToNotebookData (/usr/share/code/resources/app/extensions/ipynb/dist/ipynbMain.js:1:145714)\n\tat e.NotebookSerializer.deserializeNotebook (/usr/share/code/resources/app/extensions/ipynb/dist/ipynbMain.js:1:155236)\n\tat u.$dataToNotebook (/usr/share/code/resources/app/out/vs/workbench/api/node/extensionHostProcess.js:98:82475)\n\tat a.N (/usr/share/code/resources/app/out/vs/workbench/api/node/extensionHostProcess.js:106:11223)\n\tat a.M (/usr/share/code/resources/app/out/vs/workbench/api/node/extensionHostProcess.js:106:10941)\n\tat a.H (/usr/share/code/resources/app/out/vs/workbench/api/node/extensionHostProcess.js:106:9996)\n\tat a.G (/usr/share/code/resources/app/out/vs/workbench/api/node/extensionHostProcess.js:106:9172)\n\tat /usr/share/code/resources/app/out/vs/workbench/api/node/extensionHostProcess.js:106:7803\n\tat f.invoke (/usr/share/code/resources/app/out/vs/workbench/api/node/extensionHostProcess.js:63:145)\n\tat m.deliver (/usr/share/code/resources/app/out/vs/workbench/api/node/extensionHostProcess.js:63:2066)\n\tat d.fire (/usr/share/code/resources/app/out/vs/workbench/api/node/extensionHostProcess.js:63:1704)\n\tat p.fire (/usr/share/code/resources/app/out/vs/workbench/api/node/extensionHostProcess.js:72:14907)\n\tat /usr/share/code/resources/app/out/vs/workbench/api/node/extensionHostProcess.js:122:16556\n\tat f.invoke (/usr/share/code/resources/app/out/vs/workbench/api/node/extensionHostProcess.js:63:145)\n\tat m.deliver (/usr/share/code/resources/app/out/vs/workbench/api/node/extensionHostProcess.js:63:2066)\n\tat d.fire (/usr/share/code/resources/app/out/vs/workbench/api/node/extensionHostProcess.js:63:1704)\n\tat p.fire (/usr/share/code/resources/app/out/vs/workbench/api/node/extensionHostProcess.js:72:14907)\n\tat MessagePortMain.<anonymous> (/usr/share/code/resources/app/out/vs/workbench/api/node/extensionHostProcess.js:122:14682)\n\tat MessagePortMain.emit (node:events:526:28)\n\tat MessagePortMain._internalPort.emit (node:electron/js2c/utility_init:5:364)"
      },
      "application/vnd.jupyter.widget-view+json": {
       "model_id": "8bea492b-b769-4bb1-975e-9d6e5807c2ed",
       "version_major": 2,
       "version_minor": 0
      }
     },
     "metadata": {},
     "output_type": "display_data"
    }
   ],
   "source": [
    "SELECT * FROM Foodb_food_info"
   ]
  }
 ],
 "metadata": {
  "kernelspec": {
   "display_name": "SQL",
   "language": "SQL",
   "name": "sql"
  },
  "language_info": {
   "codemirror_mode": "sql",
   "file_extension": ".sql",
   "mimetype": "",
   "name": "SQL",
   "nbconverter_exporter": "",
   "version": ""
  },
  "toc": {
   "base_numbering": 1,
   "nav_menu": {},
   "number_sections": false,
   "sideBar": false,
   "skip_h1_title": false,
   "title_cell": "Table of Contents",
   "title_sidebar": "Contents",
   "toc_cell": false,
   "toc_position": {},
   "toc_section_display": false,
   "toc_window_display": false
  }
 },
 "nbformat": 4,
 "nbformat_minor": 2
}
