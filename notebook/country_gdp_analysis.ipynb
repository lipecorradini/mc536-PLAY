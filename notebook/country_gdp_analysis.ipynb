{
 "cells": [
  {
   "cell_type": "code",
   "execution_count": 2,
   "metadata": {},
   "outputs": [],
   "source": [
    "%defaultDatasource jdbc:h2:mem:db"
   ]
  },
  {
   "cell_type": "markdown",
   "metadata": {},
   "source": [
    "Criando tabela do GDP por país (PIB per Capita)"
   ]
  },
  {
   "cell_type": "code",
   "execution_count": 12,
   "metadata": {},
   "outputs": [],
   "source": [
    "DROP TABLE IF EXISTS Gdp_per_Country"
   ]
  },
  {
   "cell_type": "code",
   "execution_count": 13,
   "metadata": {},
   "outputs": [],
   "source": [
    "CREATE TABLE Gdp_per_Country AS\n",
    "SELECT \"Country Name\" AS country, \"2017 [YR2017]\" AS gdp\n",
    "FROM CSVREAD('../data/raw/Gdp_per_Capita.csv');"
   ]
  },
  {
   "cell_type": "code",
   "execution_count": 15,
   "metadata": {},
   "outputs": [],
   "source": [
    "DROP INDEX IF EXISTS index_g"
   ]
  },
  {
   "cell_type": "code",
   "execution_count": 17,
   "metadata": {},
   "outputs": [],
   "source": [
    "CREATE INDEX index_g\n",
    "on Gdp_per_Country(country, gdp)"
   ]
  },
  {
   "cell_type": "markdown",
   "metadata": {},
   "source": [
    "Carregando a tabela de Preço das Receitas por Região"
   ]
  },
  {
   "cell_type": "code",
   "execution_count": 10,
   "metadata": {},
   "outputs": [],
   "source": [
    "CREATE TABLE Recipes_Prices_Per_Country AS\n",
    "SELECT *\n",
    "FROM CSVREAD('../data/processed/Recipe_Price_per_Country.csv');"
   ]
  },
  {
   "cell_type": "code",
   "execution_count": 18,
   "metadata": {},
   "outputs": [],
   "source": [
    "CREATE INDEX index_r \n",
    "ON Recipes_Prices_Per_Country(recipe_id, country, price)"
   ]
  },
  {
   "cell_type": "markdown",
   "metadata": {},
   "source": [
    "Aqui, criamos uma tabela na qual conseguimos visualizar qual país tem a menor relação de salário por preço de uma receita média na região, ou seja, conseguimos visualizar os países com menor poder de compra com base na receita mais comum e no PIB per capita de cada país"
   ]
  },
  {
   "cell_type": "code",
   "execution_count": 30,
   "metadata": {},
   "outputs": [],
   "source": [
    "CREATE TABLE GDP_per_Average_Recipe_Price AS\n",
    "SELECT (G.gdp)/AVG(COALESCE(CAST(price AS FLOAT), 0)) AS min_wage_fraction, R.country\n",
    "FROM Gdp_per_Country G, Recipes_Prices_Per_Country R\n",
    "WHERE G.country = R.country\n",
    "GROUP BY R.country\n",
    "ORDER BY min_wage_fraction"
   ]
  },
  {
   "cell_type": "code",
   "execution_count": 31,
   "metadata": {},
   "outputs": [
    {
     "data": {
      "application/vnd.jupyter.widget-view+json": {
       "model_id": "51fd6b84-c903-4f58-bfbd-e59690aa11b3",
       "version_major": 2,
       "version_minor": 0
      },
      "method": "display_data"
     },
     "metadata": {},
     "output_type": "display_data"
    }
   ],
   "source": [
    "SELECT * FROM GDP_per_Average_Recipe_Price"
   ]
  },
  {
   "cell_type": "code",
   "execution_count": 32,
   "metadata": {},
   "outputs": [
    {
     "data": {
      "text/plain": [
       "106"
      ]
     },
     "execution_count": 32,
     "metadata": {},
     "output_type": "execute_result"
    }
   ],
   "source": [
    "CALL CSVWRITE('../data/processed/GDP_per_Average_Recipe_Price.csv', 'SELECT * FROM GDP_per_Average_Recipe_Price');"
   ]
  }
 ],
 "metadata": {
  "kernelspec": {
   "display_name": "SQL",
   "language": "SQL",
   "name": "sql"
  },
  "language_info": {
   "codemirror_mode": "sql",
   "file_extension": ".sql",
   "mimetype": "",
   "name": "SQL",
   "nbconverter_exporter": "",
   "version": ""
  },
  "toc": {
   "base_numbering": 1,
   "nav_menu": {},
   "number_sections": false,
   "sideBar": false,
   "skip_h1_title": false,
   "title_cell": "Table of Contents",
   "title_sidebar": "Contents",
   "toc_cell": false,
   "toc_position": {},
   "toc_section_display": false,
   "toc_window_display": false
  }
 },
 "nbformat": 4,
 "nbformat_minor": 2
}
