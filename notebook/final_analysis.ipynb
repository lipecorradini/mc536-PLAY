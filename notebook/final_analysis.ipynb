{
 "cells": [
  {
   "cell_type": "markdown",
   "metadata": {},
   "source": [
    "## Ambiente Destinados às análises finais"
   ]
  },
  {
   "cell_type": "code",
   "execution_count": 1,
   "metadata": {},
   "outputs": [],
   "source": [
    "%defaultDatasource jdbc:h2:mem:db"
   ]
  },
  {
   "cell_type": "markdown",
   "metadata": {},
   "source": [
    "Tabela das Receitas"
   ]
  },
  {
   "cell_type": "code",
   "execution_count": 43,
   "metadata": {},
   "outputs": [],
   "source": [
    "DROP TABLE IF EXISTS Recipes"
   ]
  },
  {
   "cell_type": "code",
   "execution_count": 44,
   "metadata": {},
   "outputs": [],
   "source": [
    "CREATE TABLE Recipes AS \n",
    "SELECT \"Recipe ID\" AS recipe_id, Cuisine, Title\n",
    "FROM CSVREAD('../data/raw/01_Recipe_Details.csv');"
   ]
  },
  {
   "cell_type": "code",
   "execution_count": 61,
   "metadata": {},
   "outputs": [],
   "source": [
    "DROP INDEX IF EXISTS index_R"
   ]
  },
  {
   "cell_type": "code",
   "execution_count": 62,
   "metadata": {},
   "outputs": [],
   "source": [
    "CREATE INDEX index_R\n",
    "ON Recipes (recipe_id, Cuisine, Title);"
   ]
  },
  {
   "cell_type": "markdown",
   "metadata": {},
   "source": [
    "Tabela dos Ingredientes"
   ]
  },
  {
   "cell_type": "code",
   "execution_count": 5,
   "metadata": {},
   "outputs": [],
   "source": [
    "DROP TABLE IF EXISTS Ingredients_to_Foodgroup"
   ]
  },
  {
   "cell_type": "code",
   "execution_count": 6,
   "metadata": {},
   "outputs": [],
   "source": [
    "CREATE TABLE Ingredients_to_Foodgroup AS \n",
    "SELECT ID, food_group\n",
    "FROM CSVREAD('../data/interim/Ingredients_to_Foodb_Groups.csv');"
   ]
  },
  {
   "cell_type": "code",
   "execution_count": 7,
   "metadata": {},
   "outputs": [],
   "source": [
    "CREATE INDEX index_IF\n",
    "ON Ingredients_to_Foodgroup (ID);"
   ]
  },
  {
   "cell_type": "markdown",
   "metadata": {},
   "source": [
    "Tabela de ligação entre receitas e ingredientes"
   ]
  },
  {
   "cell_type": "code",
   "execution_count": 8,
   "metadata": {},
   "outputs": [],
   "source": [
    "DROP TABLE IF EXISTS Recipes_Ingredients"
   ]
  },
  {
   "cell_type": "code",
   "execution_count": 9,
   "metadata": {},
   "outputs": [],
   "source": [
    "CREATE TABLE Recipes_Ingredients AS\n",
    "SELECT \"Recipe ID\" AS recipe_id, \"Entity ID\" as ingredient_id\n",
    "FROM CSVREAD('../data/raw/04_Recipe-Ingredients_Aliases.csv');"
   ]
  },
  {
   "cell_type": "code",
   "execution_count": 10,
   "metadata": {},
   "outputs": [],
   "source": [
    "CREATE INDEX index_RI\n",
    "ON Recipes_Ingredients (recipe_id);"
   ]
  },
  {
   "cell_type": "markdown",
   "metadata": {},
   "source": [
    "Tabela de ligação entre Foodb e ingredientes"
   ]
  },
  {
   "cell_type": "markdown",
   "metadata": {},
   "source": [
    "Tabela de ligação entre país e região"
   ]
  },
  {
   "cell_type": "code",
   "execution_count": 40,
   "metadata": {},
   "outputs": [],
   "source": [
    "DROP TABLE IF EXISTS COUNTRIES"
   ]
  },
  {
   "cell_type": "code",
   "execution_count": 41,
   "metadata": {},
   "outputs": [],
   "source": [
    "CREATE TABLE Countries AS\n",
    "SELECT Country, \"World Region\" AS region\n",
    "FROM CSVREAD('../data/interim/CountriesTable.csv');"
   ]
  },
  {
   "cell_type": "code",
   "execution_count": 42,
   "metadata": {},
   "outputs": [],
   "source": [
    "CREATE INDEX index_countries\n",
    "ON Countries(country, region)"
   ]
  },
  {
   "cell_type": "markdown",
   "metadata": {},
   "source": [
    "Criando tabela do food prices"
   ]
  },
  {
   "cell_type": "code",
   "execution_count": 13,
   "metadata": {},
   "outputs": [],
   "source": [
    "DROP TABLE IF EXISTS prices"
   ]
  },
  {
   "cell_type": "code",
   "execution_count": 14,
   "metadata": {},
   "outputs": [],
   "source": [
    "CREATE TABLE Prices AS\n",
    "SELECT \"Country Name\" AS country, \"Series Name\" AS category, \"2017 [YR2017]\" AS price\n",
    "FROM CSVREAD('../data/raw/Food_Prices_Data.csv');"
   ]
  },
  {
   "cell_type": "code",
   "execution_count": 29,
   "metadata": {},
   "outputs": [],
   "source": [
    "CREATE INDEX index_P\n",
    "ON Prices(country, category)"
   ]
  },
  {
   "cell_type": "markdown",
   "metadata": {},
   "source": [
    "Atualizando os valores dos preços para float, e colocando como 0 os que não tem dados"
   ]
  },
  {
   "cell_type": "code",
   "execution_count": 15,
   "metadata": {},
   "outputs": [],
   "source": [
    "UPDATE Prices\n",
    "SET price = CASE \n",
    "                    WHEN price = '..' THEN 0\n",
    "                    WHEN price NOT LIKE '%[^0-9.]%' THEN CAST(price AS FLOAT)\n",
    "                    ELSE price\n",
    "                END;\n"
   ]
  },
  {
   "cell_type": "markdown",
   "metadata": {},
   "source": [
    "Criando uma tabela de preços de categoria por região"
   ]
  },
  {
   "cell_type": "code",
   "execution_count": 16,
   "metadata": {},
   "outputs": [],
   "source": [
    "DROP TABLE IF EXISTS Prices_per_Region"
   ]
  },
  {
   "cell_type": "code",
   "execution_count": 17,
   "metadata": {},
   "outputs": [],
   "source": [
    "CREATE TABLE Prices_per_Region AS \n",
    "SELECT DISTINCT C.region, AVG(COALESCE(CAST(price AS FLOAT), 0)) AS average_price, P.category\n",
    "FROM Countries C, Prices P\n",
    "WHERE C.Country = P.country \n",
    "GROUP BY C.region, P.category\n",
    "ORDER BY region"
   ]
  },
  {
   "cell_type": "code",
   "execution_count": 18,
   "metadata": {},
   "outputs": [
    {
     "data": {
      "text/plain": [
       "120"
      ]
     },
     "execution_count": 18,
     "metadata": {},
     "output_type": "execute_result"
    }
   ],
   "source": [
    "CALL CSVWRITE('../data/interim/Category_Prices_per_Region.csv', 'SELECT * FROM Prices_per_Region');"
   ]
  },
  {
   "cell_type": "markdown",
   "metadata": {},
   "source": [
    "Criando tabela de Receitas por Região"
   ]
  },
  {
   "cell_type": "code",
   "execution_count": 19,
   "metadata": {},
   "outputs": [],
   "source": [
    "DROP TABLE Foodb_to_Prices IF EXISTS"
   ]
  },
  {
   "cell_type": "markdown",
   "metadata": {},
   "source": [
    "Carregando a tabela de Foodb_to_Prices"
   ]
  },
  {
   "cell_type": "code",
   "execution_count": 20,
   "metadata": {},
   "outputs": [],
   "source": [
    "CREATE TABLE Foodb_to_Prices AS\n",
    "SELECT *\n",
    "FROM CSVREAD('../data/interim/Foodb_to_Food_Prices.csv');"
   ]
  },
  {
   "cell_type": "markdown",
   "metadata": {},
   "source": [
    "Criando uma tabela que, para cada ingrediente, para cada receita, temos a categoria do ingrediente (para podermos analisar o seu preço)"
   ]
  },
  {
   "cell_type": "code",
   "execution_count": 21,
   "metadata": {},
   "outputs": [],
   "source": [
    "CREATE TABLE Ingredients_Series_per_Recipes AS\n",
    "SELECT RI.recipe_id, FP.series_name\n",
    "FROM Recipes_Ingredients RI, Ingredients_to_Foodgroup IF, Foodb_to_Prices FP\n",
    "WHERE RI.ingredient_id = IF.id AND IF.food_group=FP.food_group "
   ]
  },
  {
   "cell_type": "code",
   "execution_count": 22,
   "metadata": {},
   "outputs": [],
   "source": [
    "CREATE INDEX index_ISR\n",
    "ON Ingredients_Series_per_Recipes (recipe_id,series_name);"
   ]
  },
  {
   "cell_type": "code",
   "execution_count": 27,
   "metadata": {},
   "outputs": [],
   "source": [
    "DROP TABLE IF EXISTS Recipe_Price_per_Region"
   ]
  },
  {
   "cell_type": "markdown",
   "metadata": {},
   "source": [
    "Criando tabela com todos os preços de todas as receitas por região"
   ]
  },
  {
   "cell_type": "code",
   "execution_count": 28,
   "metadata": {},
   "outputs": [],
   "source": [
    "CREATE TABLE Recipe_Price_per_Region AS\n",
    "SELECT ISR.recipe_id, RA.Title, RA.cuisine, SUM(PR.average_price) as recipe_price\n",
    "FROM Ingredients_Series_per_Recipes ISR, Recipes RA, Prices_per_Region PR\n",
    "WHERE RA.recipe_id=ISR.recipe_id AND (PR.region=RA.cuisine) AND (ISR.series_name=PR.category)\n",
    "GROUP BY ISR.recipe_ID\n",
    "ORDER BY RA.cuisine, ISR.recipe_id"
   ]
  },
  {
   "cell_type": "code",
   "execution_count": 25,
   "metadata": {},
   "outputs": [
    {
     "data": {
      "text/plain": [
       "44023"
      ]
     },
     "execution_count": 25,
     "metadata": {},
     "output_type": "execute_result"
    }
   ],
   "source": [
    "CALL CSVWRITE('../data/processed/Recipe_Price_per_Region.csv', 'SELECT * FROM Recipe_Price_per_Region');"
   ]
  },
  {
   "cell_type": "markdown",
   "metadata": {},
   "source": [
    "Criando tabela para saber o preço de receitas por país"
   ]
  },
  {
   "cell_type": "code",
   "execution_count": 70,
   "metadata": {},
   "outputs": [],
   "source": [
    "DROP TABLE IF EXISTS Recipes_Prices_per_Country"
   ]
  },
  {
   "cell_type": "code",
   "execution_count": 71,
   "metadata": {},
   "outputs": [],
   "source": [
    "CREATE TABLE Recipes_Prices_per_Country AS\n",
    "SELECT IR.recipe_id, R.Title, P.country, SUM(COALESCE(CAST(price AS FLOAT), 0)) as price\n",
    "FROM Prices P, Ingredients_Series_per_Recipes IR, Countries C, Recipes R\n",
    "WHERE P.category = IR.series_name AND R.Cuisine = C.region AND C.country = P.country AND R.recipe_id = IR.recipe_id\n",
    "GROUP BY IR.recipe_id, P.country\n",
    "ORDER BY R.Title, P.country"
   ]
  },
  {
   "cell_type": "code",
   "execution_count": 72,
   "metadata": {},
   "outputs": [
    {
     "data": {
      "text/plain": [
       "107529"
      ]
     },
     "execution_count": 72,
     "metadata": {},
     "output_type": "execute_result"
    }
   ],
   "source": [
    "CALL CSVWRITE('../data/processed/Recipe_Price_per_Country.csv', 'SELECT * FROM Recipes_Prices_per_Country');"
   ]
  }
 ],
 "metadata": {
  "kernelspec": {
   "display_name": "SQL",
   "language": "SQL",
   "name": "sql"
  },
  "language_info": {
   "codemirror_mode": "sql",
   "file_extension": ".sql",
   "mimetype": "",
   "name": "SQL",
   "nbconverter_exporter": "",
   "version": ""
  },
  "toc": {
   "base_numbering": 1,
   "nav_menu": {},
   "number_sections": false,
   "sideBar": false,
   "skip_h1_title": false,
   "title_cell": "Table of Contents",
   "title_sidebar": "Contents",
   "toc_cell": false,
   "toc_position": {},
   "toc_section_display": false,
   "toc_window_display": false
  }
 },
 "nbformat": 4,
 "nbformat_minor": 2
}
