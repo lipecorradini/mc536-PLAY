{
 "cells": [
  {
   "cell_type": "code",
   "execution_count": 8,
   "metadata": {},
   "outputs": [],
   "source": [
    "%defaultDatasource jdbc:h2:mem:db"
   ]
  },
  {
   "cell_type": "markdown",
   "metadata": {},
   "source": [
    "### Relacionando Foodb com FoodPrices Db"
   ]
  },
  {
   "cell_type": "markdown",
   "metadata": {},
   "source": [
    "Aqui, criaremos uma tabela para relacionar essas duas bases ....."
   ]
  },
  {
   "cell_type": "markdown",
   "metadata": {},
   "source": [
    "teste"
   ]
  },
  {
   "cell_type": "code",
   "execution_count": 16,
   "metadata": {},
   "outputs": [],
   "source": [
    "drop table if exists food_prices"
   ]
  },
  {
   "cell_type": "code",
   "execution_count": 23,
   "metadata": {},
   "outputs": [],
   "source": [
    "CREATE TABLE Food_Prices(\n",
    "    series VARCHAR(40),\n",
    "    country VARCHAR(46),\n",
    "    price VARCHAR(30)\n",
    ") AS SELECT \n",
    "    \"Series Name\" AS series,\n",
    "    \"Country Name\" AS country,\n",
    "    \"2017 [YR2017]\" AS price\n",
    "FROM CSVREAD('../data/raw/Food_Prices_Data.csv')"
   ]
  },
  {
   "cell_type": "code",
   "execution_count": 26,
   "metadata": {},
   "outputs": [],
   "source": [
    "CREATE VIEW Foodb AS SELECT *\n",
    "FROM CSVREAD('../data/interim/Foods_Foodb.csv');"
   ]
  },
  {
   "cell_type": "code",
   "execution_count": 33,
   "metadata": {},
   "outputs": [],
   "source": [
    "drop table if exists foodb"
   ]
  },
  {
   "cell_type": "code",
   "execution_count": 34,
   "metadata": {},
   "outputs": [],
   "source": [
    "CREATE TABLE Foodb (\n",
    "  id VARCHAR(5),\n",
    "    common_name VARCHAR(50),\n",
    "    scientific_name VARCHAR(50),\n",
    "    food_group VARCHAR(35),\n",
    "    food_subgroup VARCHAR(35),\n",
    "--     food types é uma opção, pois aí conseguiríamos unir os tipos\n",
    ") AS SELECT\n",
    "  id, name, name_scientific, food_group, food_subgroup\n",
    "FROM CSVREAD('../data/raw/Food.csv');"
   ]
  },
  {
   "cell_type": "code",
   "execution_count": 35,
   "metadata": {},
   "outputs": [
    {
     "data": {
      "application/vnd.jupyter.widget-view+json": {
       "model_id": "5ac03b2c-1492-402e-a947-0d5226a02b94",
       "version_major": 2,
       "version_minor": 0
      },
      "method": "display_data"
     },
     "metadata": {},
     "output_type": "display_data"
    }
   ],
   "source": [
    "SELECT * FROM FOODB"
   ]
  },
  {
   "cell_type": "code",
   "execution_count": 36,
   "metadata": {},
   "outputs": [],
   "source": [
    "ALTER TABLE Foodb\n",
    "ADD Series_name VARCHAR(200) NULL;"
   ]
  },
  {
   "cell_type": "code",
   "execution_count": 25,
   "metadata": {},
   "outputs": [
    {
     "data": {
      "application/vnd.jupyter.widget-view+json": {
       "model_id": "11adc845-489d-42bd-8ef7-2d2785f64cdf",
       "version_major": 2,
       "version_minor": 0
      },
      "method": "display_data"
     },
     "metadata": {},
     "output_type": "display_data"
    }
   ],
   "source": [
    "SELECT * FROM FOOD_PRICES"
   ]
  },
  {
   "cell_type": "code",
   "execution_count": 77,
   "metadata": {},
   "outputs": [],
   "source": [
    "-- Atualiza para o primeiro Serial Name\n",
    "UPDATE foodb\n",
    "SET Series_name = 'Cost of legumes, nuts and seeds'\n",
    "WHERE Food_group IN ('Nuts', 'Cocoa and cocoa products', 'Coffee and coffee products', 'Pulses');\n"
   ]
  },
  {
   "cell_type": "code",
   "execution_count": 73,
   "metadata": {},
   "outputs": [],
   "source": [
    "\n",
    "-- Atualiza para o segundo Serial Name\n",
    "UPDATE foodb\n",
    "SET Series_name = 'Cost of fruits'\n",
    "WHERE Food_group IN ('Fruits', 'Gourds');\n",
    "\n"
   ]
  },
  {
   "cell_type": "code",
   "execution_count": 45,
   "metadata": {},
   "outputs": [],
   "source": [
    "-- Atualiza para o terceiro Serial Name\n",
    "UPDATE foodb\n",
    "SET Series_name = 'Cost of starchy staples'\n",
    "WHERE Food_group IN ('Cereals and cereal products', 'Baking goods');\n",
    "\n"
   ]
  },
  {
   "cell_type": "code",
   "execution_count": 46,
   "metadata": {},
   "outputs": [],
   "source": [
    "-- Atualiza para o quarto Serial Name\n",
    "UPDATE foodb\n",
    "SET Series_name = 'Cost of vegetables'\n",
    "WHERE Food_group IN ('Vegetables', 'Mushrooms', 'Herbs and Spices', 'Teas');\n",
    "\n"
   ]
  },
  {
   "cell_type": "code",
   "execution_count": 79,
   "metadata": {},
   "outputs": [],
   "source": [
    "-- Atualiza para o quinto Serial Name\n",
    "UPDATE foodb\n",
    "SET Series_name = 'Cost of animal-source foods'\n",
    "WHERE Food_group IN ('Animal foods', 'Aquatic foods', 'Milk and milk products', 'Eggs');\n",
    "\n"
   ]
  },
  {
   "cell_type": "code",
   "execution_count": null,
   "metadata": {},
   "outputs": [],
   "source": [
    "-- Atualiza para o sexto Serial Name\n",
    "UPDATE foodb\n",
    "SET Series_name = 'Cost of oils and fats'\n",
    "WHERE Food_group IN ('Fats and oils');\n"
   ]
  },
  {
   "cell_type": "markdown",
   "metadata": {},
   "source": [
    "Aqui, criamos uma visualização para olhar todas as categorias, e categorizamo-as"
   ]
  },
  {
   "cell_type": "code",
   "execution_count": 64,
   "metadata": {},
   "outputs": [],
   "source": [
    "CREATE VIEW not_labeled as ((select * from foodb)\n",
    "\n",
    "EXCEPT\n",
    "\n",
    "(select * from foodb where series_name <> ''))"
   ]
  },
  {
   "cell_type": "code",
   "execution_count": 96,
   "metadata": {},
   "outputs": [],
   "source": [
    "drop view if exists diff_null"
   ]
  },
  {
   "cell_type": "code",
   "execution_count": 97,
   "metadata": {},
   "outputs": [],
   "source": [
    "Create view diff_null as (select distinct food_group, series_name from foodb where series_name <> '')"
   ]
  },
  {
   "cell_type": "code",
   "execution_count": 80,
   "metadata": {
    "scrolled": true
   },
   "outputs": [
    {
     "data": {
      "application/vnd.jupyter.widget-view+json": {
       "model_id": "b06a5b0a-b779-499e-a668-786bd51c2972",
       "version_major": 2,
       "version_minor": 0
      },
      "method": "display_data"
     },
     "metadata": {},
     "output_type": "display_data"
    }
   ],
   "source": [
    "select * from not_labeled order by food_group"
   ]
  },
  {
   "cell_type": "code",
   "execution_count": 98,
   "metadata": {},
   "outputs": [
    {
     "data": {
      "text/plain": [
       "16"
      ]
     },
     "execution_count": 98,
     "metadata": {},
     "output_type": "execute_result"
    }
   ],
   "source": [
    "CALL CSVWRITE('../data/interim/Foodb_to_Food_Prices.csv', 'SELECT * FROM DIFF_NULL');"
   ]
  }
 ],
 "metadata": {
  "kernelspec": {
   "display_name": "SQL",
   "language": "SQL",
   "name": "sql"
  },
  "language_info": {
   "codemirror_mode": "sql",
   "file_extension": ".sql",
   "mimetype": "",
   "name": "SQL",
   "nbconverter_exporter": "",
   "version": ""
  },
  "toc": {
   "base_numbering": 1,
   "nav_menu": {},
   "number_sections": false,
   "sideBar": false,
   "skip_h1_title": false,
   "title_cell": "Table of Contents",
   "title_sidebar": "Contents",
   "toc_cell": false,
   "toc_position": {},
   "toc_section_display": false,
   "toc_window_display": false
  }
 },
 "nbformat": 4,
 "nbformat_minor": 2
}
