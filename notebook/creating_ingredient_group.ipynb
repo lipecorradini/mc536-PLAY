{
 "cells": [
  {
   "cell_type": "code",
   "execution_count": 1,
   "metadata": {},
   "outputs": [],
   "source": [
    "%defaultDatasource jdbc:h2:mem:db"
   ]
  },
  {
   "cell_type": "code",
   "execution_count": 2,
   "metadata": {},
   "outputs": [],
   "source": [
    "DROP TABLE IF EXISTS ingredients_group"
   ]
  },
  {
   "cell_type": "code",
   "execution_count": 3,
   "metadata": {},
   "outputs": [],
   "source": [
    "CREATE TABLE ingredients_group (\n",
    "    name VARCHAR(50),\n",
    "    synonyms VARCHAR(200),\n",
    "    id VARCHAR(4),\n",
    "    category VARCHAR(50)\n",
    ") AS SELECT\n",
    "    \"Aliased Ingredient Name\" AS name,\n",
    "    \"Ingredient Synonyms\" AS synonyms,\n",
    "    \"Entity ID\" AS id,\n",
    "    \"CATEGORY\" AS category\n",
    "FROM CSVREAD('../data/raw/02_Ingredients.csv');"
   ]
  },
  {
   "cell_type": "code",
   "execution_count": 4,
   "metadata": {},
   "outputs": [],
   "source": [
    "ALTER TABLE ingredients_group\n",
    "ADD food_group VARCHAR(200) NULL;"
   ]
  },
  {
   "cell_type": "markdown",
   "metadata": {},
   "source": [
    "Aqui, estamos relacionando os ingredientes da tabela 02_Ingredients.csv, do CulinaryDb, com a tabela Food.csv, do food prices, criando uma coluna \"Food_Group\", a qual relacionará uma categoria do ingredients do CulinaryDb, com o Food Group da FoodB"
   ]
  },
  {
   "cell_type": "code",
   "execution_count": 5,
   "metadata": {},
   "outputs": [
    {
     "data": {
      "application/vnd.jupyter.widget-view+json": {
       "model_id": "cd0c0cd8-d2fb-4c0a-abab-940e755ea213",
       "version_major": 2,
       "version_minor": 0
      },
      "method": "display_data"
     },
     "metadata": {},
     "output_type": "display_data"
    }
   ],
   "source": [
    "SELECT * FROM ingredients_group"
   ]
  },
  {
   "cell_type": "code",
   "execution_count": 6,
   "metadata": {},
   "outputs": [],
   "source": [
    "DROP TABLE IF EXISTS Foodb_groups"
   ]
  },
  {
   "cell_type": "code",
   "execution_count": 7,
   "metadata": {},
   "outputs": [],
   "source": [
    "CREATE VIEW Foodb_groups AS \n",
    "SELECT food_group, food_subgroup \n",
    "FROM CSVREAD('../data/interim/Foods_Foodb.csv');"
   ]
  },
  {
   "cell_type": "code",
   "execution_count": 41,
   "metadata": {},
   "outputs": [
    {
     "data": {
      "application/vnd.jupyter.widget-view+json": {
       "model_id": "cc9ca32c-3a9c-4891-ae1e-a382490b5df1",
       "version_major": 2,
       "version_minor": 0
      },
      "method": "display_data"
     },
     "metadata": {},
     "output_type": "display_data"
    }
   ],
   "source": [
    "SELECT DISTINCT FOOD_SUBGROUP FROM Foodb_groups ORDER BY FOOD_SUBGROUP"
   ]
  },
  {
   "cell_type": "code",
   "execution_count": 8,
   "metadata": {},
   "outputs": [],
   "source": [
    "UPDATE ingredients_group\n",
    "SET food_group='Cereals and cereal products'\n",
    "WHERE category='Bakery'"
   ]
  },
  {
   "cell_type": "code",
   "execution_count": 9,
   "metadata": {},
   "outputs": [
    {
     "data": {
      "application/vnd.jupyter.widget-view+json": {
       "model_id": "6eb47f8b-de02-4081-aac8-70840a874405",
       "version_major": 2,
       "version_minor": 0
      },
      "method": "display_data"
     },
     "metadata": {},
     "output_type": "display_data"
    }
   ],
   "source": [
    "SELECT * FROM ingredients_group"
   ]
  },
  {
   "cell_type": "code",
   "execution_count": 10,
   "metadata": {},
   "outputs": [],
   "source": [
    "UPDATE ingredients_group\n",
    "SET food_group='Animal foods'\n",
    "WHERE category='Meat'"
   ]
  },
  {
   "cell_type": "code",
   "execution_count": 11,
   "metadata": {},
   "outputs": [
    {
     "data": {
      "application/vnd.jupyter.widget-view+json": {
       "model_id": "d6cf97bd-1275-4bbc-a828-380f3fcae6e7",
       "version_major": 2,
       "version_minor": 0
      },
      "method": "display_data"
     },
     "metadata": {},
     "output_type": "display_data"
    }
   ],
   "source": [
    "SELECT * FROM ingredients_group"
   ]
  },
  {
   "cell_type": "code",
   "execution_count": 12,
   "metadata": {},
   "outputs": [],
   "source": [
    "UPDATE ingredients_group\n",
    "SET food_group='Beverages'\n",
    "WHERE category='Beverage Alcoholic'"
   ]
  },
  {
   "cell_type": "code",
   "execution_count": 13,
   "metadata": {},
   "outputs": [],
   "source": [
    "UPDATE ingredients_group\n",
    "SET food_group='Vegetables'\n",
    "WHERE category='Vegetable'"
   ]
  },
  {
   "cell_type": "code",
   "execution_count": 14,
   "metadata": {},
   "outputs": [],
   "source": [
    "UPDATE ingredients_group\n",
    "SET food_group='Herbs and Spices'\n",
    "WHERE category='Spice'"
   ]
  },
  {
   "cell_type": "code",
   "execution_count": 15,
   "metadata": {},
   "outputs": [],
   "source": [
    "UPDATE ingredients_group\n",
    "SET food_group='Cereals and cereal products'\n",
    "WHERE category='Cereal'"
   ]
  },
  {
   "cell_type": "code",
   "execution_count": 16,
   "metadata": {},
   "outputs": [],
   "source": [
    "UPDATE ingredients_group\n",
    "SET food_group='Vegetables'\n",
    "WHERE category='Plant'"
   ]
  },
  {
   "cell_type": "code",
   "execution_count": 17,
   "metadata": {},
   "outputs": [],
   "source": [
    "UPDATE ingredients_group\n",
    "SET food_group='Fruits'\n",
    "WHERE category='Fruit'"
   ]
  },
  {
   "cell_type": "code",
   "execution_count": 18,
   "metadata": {},
   "outputs": [],
   "source": [
    "UPDATE ingredients_group\n",
    "SET food_group='Herbs and Spices'\n",
    "WHERE category='Herb'"
   ]
  },
  {
   "cell_type": "code",
   "execution_count": 19,
   "metadata": {},
   "outputs": [],
   "source": [
    "UPDATE ingredients_group\n",
    "SET food_group='Dishes'\n",
    "WHERE category='Dish'"
   ]
  },
  {
   "cell_type": "code",
   "execution_count": 20,
   "metadata": {},
   "outputs": [],
   "source": [
    "UPDATE ingredients_group\n",
    "SET food_group='Aquatic foods'\n",
    "WHERE category='Fish'"
   ]
  },
  {
   "cell_type": "code",
   "execution_count": 21,
   "metadata": {},
   "outputs": [],
   "source": [
    "UPDATE ingredients_group\n",
    "SET food_group='Aquatic foods'\n",
    "WHERE category='Seafood'"
   ]
  },
  {
   "cell_type": "code",
   "execution_count": 22,
   "metadata": {},
   "outputs": [],
   "source": [
    "UPDATE ingredients_group\n",
    "SET food_group='Nuts'\n",
    "WHERE category='Nuts & Seed'"
   ]
  },
  {
   "cell_type": "code",
   "execution_count": 23,
   "metadata": {},
   "outputs": [],
   "source": [
    "UPDATE ingredients_group\n",
    "SET food_group='Herbs and Spices'\n",
    "WHERE category='Legume' OR category='Flower'"
   ]
  },
  {
   "cell_type": "code",
   "execution_count": 25,
   "metadata": {},
   "outputs": [],
   "source": [
    "UPDATE ingredients_group\n",
    "SET food_group='Teas'\n",
    "WHERE category='Beverage'"
   ]
  },
  {
   "cell_type": "code",
   "execution_count": 26,
   "metadata": {},
   "outputs": [],
   "source": [
    "UPDATE ingredients_group\n",
    "SET food_group='Cereals and cereal products'\n",
    "WHERE category='Maize'"
   ]
  },
  {
   "cell_type": "code",
   "execution_count": 27,
   "metadata": {},
   "outputs": [],
   "source": [
    "UPDATE ingredients_group\n",
    "SET food_group='Animal foods'\n",
    "WHERE category='Dairy'"
   ]
  },
  {
   "cell_type": "code",
   "execution_count": 28,
   "metadata": {},
   "outputs": [],
   "source": [
    "UPDATE ingredients_group\n",
    "SET food_group='Fats and oils'\n",
    "WHERE category='Essential Oil'"
   ]
  },
  {
   "cell_type": "code",
   "execution_count": 29,
   "metadata": {},
   "outputs": [],
   "source": [
    "UPDATE ingredients_group\n",
    "SET food_group='Mushrooms'\n",
    "WHERE category='Fungus'"
   ]
  },
  {
   "cell_type": "code",
   "execution_count": 30,
   "metadata": {},
   "outputs": [],
   "source": [
    "UPDATE ingredients_group\n",
    "SET food_group='Baking goods'\n",
    "WHERE category='Additive'"
   ]
  },
  {
   "cell_type": "code",
   "execution_count": 31,
   "metadata": {
    "scrolled": true
   },
   "outputs": [
    {
     "data": {
      "application/vnd.jupyter.widget-view+json": {
       "model_id": "9f8f5ba9-3e7c-4afd-b6e2-adb3d8d92988",
       "version_major": 2,
       "version_minor": 0
      },
      "method": "display_data"
     },
     "metadata": {},
     "output_type": "display_data"
    }
   ],
   "source": [
    "SELECT * FROM ingredients_group"
   ]
  },
  {
   "cell_type": "markdown",
   "metadata": {},
   "source": [
    "Aqui, utilizamos o comando para criar a tabela de relação e colocá-la na pasta desejada "
   ]
  },
  {
   "cell_type": "code",
   "execution_count": 43,
   "metadata": {},
   "outputs": [],
   "source": [
    "ALTER TABLE ingredients_group RENAME TO Ingredients_to_Foodb_Groups;"
   ]
  },
  {
   "cell_type": "code",
   "execution_count": 48,
   "metadata": {},
   "outputs": [
    {
     "data": {
      "text/plain": [
       "930"
      ]
     },
     "execution_count": 48,
     "metadata": {},
     "output_type": "execute_result"
    }
   ],
   "source": [
    "CALL CSVWRITE('../data/interim/Ingredients_to_Foodb_Groups.csv', 'SELECT * FROM Ingredients_to_Foodb_Groups');"
   ]
  }
 ],
 "metadata": {
  "kernelspec": {
   "display_name": "SQL",
   "language": "SQL",
   "name": "sql"
  },
  "language_info": {
   "codemirror_mode": "sql",
   "file_extension": ".sql",
   "mimetype": "",
   "name": "SQL",
   "nbconverter_exporter": "",
   "version": ""
  },
  "toc": {
   "base_numbering": 1,
   "nav_menu": {},
   "number_sections": false,
   "sideBar": false,
   "skip_h1_title": false,
   "title_cell": "Table of Contents",
   "title_sidebar": "Contents",
   "toc_cell": false,
   "toc_position": {},
   "toc_section_display": false,
   "toc_window_display": false
  }
 },
 "nbformat": 4,
 "nbformat_minor": 2
}
