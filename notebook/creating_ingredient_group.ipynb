{
 "cells": [
  {
   "cell_type": "code",
   "execution_count": 39,
   "metadata": {},
   "outputs": [],
   "source": [
    "%defaultDatasource jdbc:h2:mem:db"
   ]
  },
  {
   "cell_type": "code",
   "execution_count": 40,
   "metadata": {},
   "outputs": [],
   "source": [
    "DROP TABLE IF EXISTS ingredients_group"
   ]
  },
  {
   "cell_type": "code",
   "execution_count": 41,
   "metadata": {},
   "outputs": [],
   "source": [
    "CREATE TABLE ingredients_group (\n",
    "    name VARCHAR(50),\n",
    "    synonyms VARCHAR(200),\n",
    "    id VARCHAR(4),\n",
    "    category VARCHAR(50)\n",
    ") AS SELECT\n",
    "    \"Aliased Ingredient Name\" AS name,\n",
    "    \"Ingredient Synonyms\" AS synonyms,\n",
    "    \"Entity ID\" AS id,\n",
    "    \"CATEGORY\" AS category\n",
    "FROM CSVREAD('../data/raw/02_Ingredients.csv');"
   ]
  },
  {
   "cell_type": "code",
   "execution_count": 42,
   "metadata": {},
   "outputs": [],
   "source": [
    "ALTER TABLE ingredients_group\n",
    "ADD food_group VARCHAR(200) NULL;"
   ]
  },
  {
   "cell_type": "markdown",
   "metadata": {},
   "source": [
    "Aqui, estamos relacionando os ingredientes da tabela 02_Ingredients.csv, do CulinaryDb, com a tabela Food.csv, do food prices, criando uma coluna \"Food_Group\", a qual relacionará uma categoria do ingredients do CulinaryDb, com o Food Group da FoodB"
   ]
  },
  {
   "cell_type": "code",
   "execution_count": 44,
   "metadata": {},
   "outputs": [
    {
     "data": {
      "application/vnd.jupyter.widget-view+json": {
       "model_id": "dd28f47e-d3fc-45f7-9dec-12368263acd1",
       "version_major": 2,
       "version_minor": 0
      },
      "method": "display_data"
     },
     "metadata": {},
     "output_type": "display_data"
    }
   ],
   "source": [
    "SELECT * FROM ingredients_group"
   ]
  },
  {
   "cell_type": "code",
   "execution_count": 45,
   "metadata": {},
   "outputs": [],
   "source": [
    "DROP TABLE IF EXISTS Foodb_groups"
   ]
  },
  {
   "cell_type": "code",
   "execution_count": 46,
   "metadata": {},
   "outputs": [],
   "source": [
    "CREATE VIEW Foodb_groups AS \n",
    "SELECT food_group, food_subgroup \n",
    "FROM CSVREAD('../data/interim/Foods_Foodb.csv');"
   ]
  },
  {
   "cell_type": "code",
   "execution_count": 47,
   "metadata": {},
   "outputs": [],
   "source": [
    "UPDATE ingredients_group\n",
    "SET food_group='Cereals and cereal products'\n",
    "WHERE category='Bakery'"
   ]
  },
  {
   "cell_type": "code",
   "execution_count": 48,
   "metadata": {},
   "outputs": [
    {
     "data": {
      "application/vnd.jupyter.widget-view+json": {
       "model_id": "b0c3bd61-2e11-43cf-83f2-ba1ba440ec89",
       "version_major": 2,
       "version_minor": 0
      },
      "method": "display_data"
     },
     "metadata": {},
     "output_type": "display_data"
    }
   ],
   "source": [
    "SELECT * FROM ingredients_group"
   ]
  },
  {
   "cell_type": "code",
   "execution_count": 49,
   "metadata": {},
   "outputs": [],
   "source": [
    "UPDATE ingredients_group\n",
    "SET food_group='Animal foods'\n",
    "WHERE category='Meat'"
   ]
  },
  {
   "cell_type": "code",
   "execution_count": 50,
   "metadata": {},
   "outputs": [
    {
     "data": {
      "application/vnd.jupyter.widget-view+json": {
       "model_id": "f9e190c1-a6df-46ac-b42d-4dfa1ce96efb",
       "version_major": 2,
       "version_minor": 0
      },
      "method": "display_data"
     },
     "metadata": {},
     "output_type": "display_data"
    }
   ],
   "source": [
    "SELECT * FROM ingredients_group"
   ]
  },
  {
   "cell_type": "code",
   "execution_count": 51,
   "metadata": {},
   "outputs": [],
   "source": [
    "UPDATE ingredients_group\n",
    "SET food_group='Beverages'\n",
    "WHERE category='Beverage Alcoholic'"
   ]
  },
  {
   "cell_type": "code",
   "execution_count": 52,
   "metadata": {},
   "outputs": [],
   "source": [
    "UPDATE ingredients_group\n",
    "SET food_group='Vegetables'\n",
    "WHERE category='Vegetable'"
   ]
  },
  {
   "cell_type": "code",
   "execution_count": 53,
   "metadata": {},
   "outputs": [],
   "source": [
    "UPDATE ingredients_group\n",
    "SET food_group='Herbs and Spices'\n",
    "WHERE category='Spice'"
   ]
  },
  {
   "cell_type": "code",
   "execution_count": 54,
   "metadata": {},
   "outputs": [],
   "source": [
    "UPDATE ingredients_group\n",
    "SET food_group='Cereals and cereal products'\n",
    "WHERE category='Cereal'"
   ]
  },
  {
   "cell_type": "code",
   "execution_count": 55,
   "metadata": {},
   "outputs": [],
   "source": [
    "UPDATE ingredients_group\n",
    "SET food_group='Vegetables'\n",
    "WHERE category='Plant'"
   ]
  },
  {
   "cell_type": "code",
   "execution_count": 56,
   "metadata": {},
   "outputs": [],
   "source": [
    "UPDATE ingredients_group\n",
    "SET food_group='Fruits'\n",
    "WHERE category='Fruit'"
   ]
  },
  {
   "cell_type": "code",
   "execution_count": 57,
   "metadata": {},
   "outputs": [],
   "source": [
    "UPDATE ingredients_group\n",
    "SET food_group='Herbs and Spices'\n",
    "WHERE category='Herb'"
   ]
  },
  {
   "cell_type": "code",
   "execution_count": 58,
   "metadata": {},
   "outputs": [],
   "source": [
    "UPDATE ingredients_group\n",
    "SET food_group='Dishes'\n",
    "WHERE category='Dish'"
   ]
  },
  {
   "cell_type": "code",
   "execution_count": 59,
   "metadata": {},
   "outputs": [],
   "source": [
    "UPDATE ingredients_group\n",
    "SET food_group='Aquatic foods'\n",
    "WHERE category='Fish'"
   ]
  },
  {
   "cell_type": "code",
   "execution_count": 60,
   "metadata": {},
   "outputs": [],
   "source": [
    "UPDATE ingredients_group\n",
    "SET food_group='Aquatic foods'\n",
    "WHERE category='Seafood'"
   ]
  },
  {
   "cell_type": "code",
   "execution_count": 61,
   "metadata": {},
   "outputs": [],
   "source": [
    "UPDATE ingredients_group\n",
    "SET food_group='Nuts'\n",
    "WHERE category='Nuts & Seed'"
   ]
  },
  {
   "cell_type": "code",
   "execution_count": 62,
   "metadata": {},
   "outputs": [],
   "source": [
    "UPDATE ingredients_group\n",
    "SET food_group='Herbs and Spices'\n",
    "WHERE category='Legume' OR category='Flower'"
   ]
  },
  {
   "cell_type": "code",
   "execution_count": 63,
   "metadata": {},
   "outputs": [
    {
     "data": {
      "application/vnd.jupyter.widget-view+json": {
       "model_id": "df091ef8-6738-42b3-9e9d-dea60bc9b19f",
       "version_major": 2,
       "version_minor": 0
      },
      "method": "display_data"
     },
     "metadata": {},
     "output_type": "display_data"
    }
   ],
   "source": [
    "SELECT * FROM ingredients_group"
   ]
  },
  {
   "cell_type": "code",
   "execution_count": 64,
   "metadata": {},
   "outputs": [],
   "source": [
    "UPDATE ingredients_group\n",
    "SET food_group='Teas'\n",
    "WHERE category='Beverage'"
   ]
  },
  {
   "cell_type": "code",
   "execution_count": 65,
   "metadata": {},
   "outputs": [],
   "source": [
    "UPDATE ingredients_group\n",
    "SET food_group='Cereals and cereal products'\n",
    "WHERE category='Maize'"
   ]
  },
  {
   "cell_type": "code",
   "execution_count": 66,
   "metadata": {},
   "outputs": [],
   "source": [
    "UPDATE ingredients_group\n",
    "SET food_group='Animal foods'\n",
    "WHERE category='Dairy'"
   ]
  },
  {
   "cell_type": "code",
   "execution_count": 67,
   "metadata": {},
   "outputs": [],
   "source": [
    "UPDATE ingredients_group\n",
    "SET food_group='Fats and oils'\n",
    "WHERE category='Essential Oil'"
   ]
  },
  {
   "cell_type": "code",
   "execution_count": 68,
   "metadata": {},
   "outputs": [],
   "source": [
    "UPDATE ingredients_group\n",
    "SET food_group='Mushrooms'\n",
    "WHERE category='Fungus'"
   ]
  },
  {
   "cell_type": "code",
   "execution_count": 69,
   "metadata": {},
   "outputs": [],
   "source": [
    "UPDATE ingredients_group\n",
    "SET food_group='Baking goods'\n",
    "WHERE category='Additive'"
   ]
  },
  {
   "cell_type": "code",
   "execution_count": 70,
   "metadata": {
    "scrolled": true
   },
   "outputs": [
    {
     "data": {
      "application/vnd.jupyter.widget-view+json": {
       "model_id": "77f63655-7902-4d95-af95-8d6068dd65e3",
       "version_major": 2,
       "version_minor": 0
      },
      "method": "display_data"
     },
     "metadata": {},
     "output_type": "display_data"
    }
   ],
   "source": [
    "SELECT * FROM ingredients_group"
   ]
  },
  {
   "cell_type": "code",
   "execution_count": 78,
   "metadata": {},
   "outputs": [
    {
     "data": {
      "application/vnd.jupyter.widget-view+json": {
       "model_id": "f2a8aa48-4c8b-4ea1-9907-fac7a52e5768",
       "version_major": 2,
       "version_minor": 0
      },
      "method": "display_data"
     },
     "metadata": {},
     "output_type": "display_data"
    }
   ],
   "source": [
    "SELECT DISTINCT CATEGORY, FOOD_GROUP\n",
    "FROM ingredients_group\n",
    "ORDER BY FOOD_GROUP"
   ]
  }
 ],
 "metadata": {
  "kernelspec": {
   "display_name": "SQL",
   "language": "SQL",
   "name": "sql"
  },
  "language_info": {
   "codemirror_mode": "sql",
   "file_extension": ".sql",
   "mimetype": "",
   "name": "SQL",
   "nbconverter_exporter": "",
   "version": ""
  },
  "toc": {
   "base_numbering": 1,
   "nav_menu": {},
   "number_sections": false,
   "sideBar": false,
   "skip_h1_title": false,
   "title_cell": "Table of Contents",
   "title_sidebar": "Contents",
   "toc_cell": false,
   "toc_position": {},
   "toc_section_display": false,
   "toc_window_display": false
  }
 },
 "nbformat": 4,
 "nbformat_minor": 2
}
