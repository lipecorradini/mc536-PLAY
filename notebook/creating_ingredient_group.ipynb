{
 "cells": [
  {
   "cell_type": "code",
   "execution_count": 37,
   "metadata": {},
   "outputs": [],
   "source": [
    "%defaultDatasource jdbc:h2:mem:db"
   ]
  },
  {
   "cell_type": "code",
   "execution_count": 38,
   "metadata": {},
   "outputs": [],
   "source": [
    "DROP TABLE IF EXISTS ingredients_group"
   ]
  },
  {
   "cell_type": "code",
   "execution_count": 39,
   "metadata": {},
   "outputs": [],
   "source": [
    "CREATE TABLE ingredients_group (\n",
    "    name VARCHAR(50),\n",
    "    synonyms VARCHAR(200),\n",
    "    id VARCHAR(4),\n",
    "    category VARCHAR(50)\n",
    ") AS SELECT\n",
    "    \"Aliased Ingredient Name\" AS name,\n",
    "    \"Ingredient Synonyms\" AS synonyms,\n",
    "    \"Entity ID\" AS id,\n",
    "    \"CATEGORY\" AS category\n",
    "FROM CSVREAD('../data/raw/02_Ingredients.csv');"
   ]
  },
  {
   "cell_type": "code",
   "execution_count": 40,
   "metadata": {},
   "outputs": [],
   "source": [
    "ALTER TABLE ingredients_group\n",
    "ADD food_group VARCHAR(200) NULL;"
   ]
  },
  {
   "cell_type": "markdown",
   "metadata": {},
   "source": [
    "Aqui, estamos relacionando os ingredientes da tabela 02_Ingredients.csv, do CulinaryDb, com a tabela Food.csv, do food prices, criando uma coluna \"Food_Group\", a qual relacionará uma categoria do ingredients do CulinaryDb, com o Food Group da FoodB"
   ]
  },
  {
   "cell_type": "code",
   "execution_count": 41,
   "metadata": {},
   "outputs": [
    {
     "data": {
      "application/vnd.jupyter.widget-view+json": {
       "model_id": "b0ba0cd5-5d0b-43e3-b260-b627dd0bfbed",
       "version_major": 2,
       "version_minor": 0
      },
      "method": "display_data"
     },
     "metadata": {},
     "output_type": "display_data"
    }
   ],
   "source": [
    "SELECT * FROM ingredients_group"
   ]
  },
  {
   "cell_type": "code",
   "execution_count": 42,
   "metadata": {},
   "outputs": [],
   "source": [
    "DROP TABLE IF EXISTS Foodb_groups"
   ]
  },
  {
   "cell_type": "code",
   "execution_count": 73,
   "metadata": {},
   "outputs": [],
   "source": [
    "DROP TABLE IF EXISTS Foodb"
   ]
  },
  {
   "cell_type": "code",
   "execution_count": 74,
   "metadata": {},
   "outputs": [],
   "source": [
    "CREATE VIEW Foodb AS SELECT *\n",
    "FROM CSVREAD('../data/interim/Foods_Foodb.csv');"
   ]
  },
  {
   "cell_type": "code",
   "execution_count": 44,
   "metadata": {},
   "outputs": [],
   "source": [
    "CREATE VIEW Foodb_groups AS \n",
    "SELECT food_group, food_subgroup \n",
    "FROM CSVREAD('../data/interim/Foods_Foodb.csv');"
   ]
  },
  {
   "cell_type": "code",
   "execution_count": 45,
   "metadata": {},
   "outputs": [
    {
     "data": {
      "application/vnd.jupyter.widget-view+json": {
       "model_id": "500774f8-11f1-48ea-9c3d-0f680899957d",
       "version_major": 2,
       "version_minor": 0
      },
      "method": "display_data"
     },
     "metadata": {},
     "output_type": "display_data"
    }
   ],
   "source": [
    "SELECT DISTINCT FOOD_GROUP FROM FOODB ORDER BY FOOD_GROUP"
   ]
  },
  {
   "cell_type": "code",
   "execution_count": 46,
   "metadata": {},
   "outputs": [
    {
     "data": {
      "application/vnd.jupyter.widget-view+json": {
       "model_id": "f8ac9715-3d4a-44ba-8a32-7dae279c5954",
       "version_major": 2,
       "version_minor": 0
      },
      "method": "display_data"
     },
     "metadata": {},
     "output_type": "display_data"
    }
   ],
   "source": [
    "SELECT COUNT(*), F.FOOD_GROUP\n",
    "FROM FOODB F \n",
    "GROUP BY F.FOOD_GROUP\n",
    "ORDER BY F.FOOD_GROUP"
   ]
  },
  {
   "cell_type": "code",
   "execution_count": 47,
   "metadata": {},
   "outputs": [],
   "source": [
    "UPDATE ingredients_group\n",
    "SET food_group='Cereals and cereal products'\n",
    "WHERE category='Bakery'"
   ]
  },
  {
   "cell_type": "code",
   "execution_count": 48,
   "metadata": {},
   "outputs": [
    {
     "data": {
      "application/vnd.jupyter.widget-view+json": {
       "model_id": "17c35d4d-c372-4f51-b791-14d97d5032b4",
       "version_major": 2,
       "version_minor": 0
      },
      "method": "display_data"
     },
     "metadata": {},
     "output_type": "display_data"
    }
   ],
   "source": [
    "SELECT * FROM ingredients_group"
   ]
  },
  {
   "cell_type": "code",
   "execution_count": 49,
   "metadata": {},
   "outputs": [],
   "source": [
    "UPDATE ingredients_group\n",
    "SET food_group='Animal foods'\n",
    "WHERE category='Meat'"
   ]
  },
  {
   "cell_type": "code",
   "execution_count": 50,
   "metadata": {},
   "outputs": [
    {
     "data": {
      "application/vnd.jupyter.widget-view+json": {
       "model_id": "72e7574e-21a5-4f7c-8b25-e50b916bd079",
       "version_major": 2,
       "version_minor": 0
      },
      "method": "display_data"
     },
     "metadata": {},
     "output_type": "display_data"
    }
   ],
   "source": [
    "SELECT * FROM ingredients_group"
   ]
  },
  {
   "cell_type": "code",
   "execution_count": 51,
   "metadata": {},
   "outputs": [],
   "source": [
    "UPDATE ingredients_group\n",
    "SET food_group='Beverages'\n",
    "WHERE category='Beverage Alcoholic'"
   ]
  },
  {
   "cell_type": "code",
   "execution_count": 52,
   "metadata": {},
   "outputs": [],
   "source": [
    "UPDATE ingredients_group\n",
    "SET food_group='Vegetables'\n",
    "WHERE category='Vegetable'"
   ]
  },
  {
   "cell_type": "code",
   "execution_count": 53,
   "metadata": {},
   "outputs": [],
   "source": [
    "UPDATE ingredients_group\n",
    "SET food_group='Herbs and Spices'\n",
    "WHERE category='Spice'"
   ]
  },
  {
   "cell_type": "code",
   "execution_count": 54,
   "metadata": {},
   "outputs": [],
   "source": [
    "UPDATE ingredients_group\n",
    "SET food_group='Cereals and cereal products'\n",
    "WHERE category='Cereal'"
   ]
  },
  {
   "cell_type": "code",
   "execution_count": 55,
   "metadata": {},
   "outputs": [],
   "source": [
    "UPDATE ingredients_group\n",
    "SET food_group='Vegetables'\n",
    "WHERE category='Plant'"
   ]
  },
  {
   "cell_type": "code",
   "execution_count": 56,
   "metadata": {},
   "outputs": [],
   "source": [
    "UPDATE ingredients_group\n",
    "SET food_group='Fruits'\n",
    "WHERE category='Fruit'"
   ]
  },
  {
   "cell_type": "code",
   "execution_count": 57,
   "metadata": {},
   "outputs": [],
   "source": [
    "UPDATE ingredients_group\n",
    "SET food_group='Herbs and Spices'\n",
    "WHERE category='Herb'"
   ]
  },
  {
   "cell_type": "code",
   "execution_count": 58,
   "metadata": {},
   "outputs": [],
   "source": [
    "UPDATE ingredients_group\n",
    "SET food_group='Dishes'\n",
    "WHERE category='Dish'"
   ]
  },
  {
   "cell_type": "code",
   "execution_count": 59,
   "metadata": {},
   "outputs": [],
   "source": [
    "UPDATE ingredients_group\n",
    "SET food_group='Aquatic foods'\n",
    "WHERE category='Fish'"
   ]
  },
  {
   "cell_type": "code",
   "execution_count": 60,
   "metadata": {},
   "outputs": [],
   "source": [
    "UPDATE ingredients_group\n",
    "SET food_group='Aquatic foods'\n",
    "WHERE category='Seafood'"
   ]
  },
  {
   "cell_type": "code",
   "execution_count": 61,
   "metadata": {},
   "outputs": [],
   "source": [
    "UPDATE ingredients_group\n",
    "SET food_group='Nuts'\n",
    "WHERE category='Nuts & Seed'"
   ]
  },
  {
   "cell_type": "code",
   "execution_count": 62,
   "metadata": {},
   "outputs": [],
   "source": [
    "UPDATE ingredients_group\n",
    "SET food_group='Herbs and Spices'\n",
    "WHERE category='Legume' OR category='Flower'"
   ]
  },
  {
   "cell_type": "code",
   "execution_count": 63,
   "metadata": {},
   "outputs": [],
   "source": [
    "UPDATE ingredients_group\n",
    "SET food_group='Teas'\n",
    "WHERE category='Beverage'"
   ]
  },
  {
   "cell_type": "code",
   "execution_count": 64,
   "metadata": {},
   "outputs": [],
   "source": [
    "UPDATE ingredients_group\n",
    "SET food_group='Cereals and cereal products'\n",
    "WHERE category='Maize'"
   ]
  },
  {
   "cell_type": "code",
   "execution_count": 65,
   "metadata": {},
   "outputs": [],
   "source": [
    "UPDATE ingredients_group\n",
    "SET food_group='Animal foods'\n",
    "WHERE category='Dairy'"
   ]
  },
  {
   "cell_type": "code",
   "execution_count": 66,
   "metadata": {},
   "outputs": [],
   "source": [
    "UPDATE ingredients_group\n",
    "SET food_group='Fats and oils'\n",
    "WHERE category='Essential Oil'"
   ]
  },
  {
   "cell_type": "code",
   "execution_count": 67,
   "metadata": {},
   "outputs": [],
   "source": [
    "UPDATE ingredients_group\n",
    "SET food_group='Mushrooms'\n",
    "WHERE category='Fungus'"
   ]
  },
  {
   "cell_type": "code",
   "execution_count": 68,
   "metadata": {},
   "outputs": [],
   "source": [
    "UPDATE ingredients_group\n",
    "SET food_group='Baking goods'\n",
    "WHERE category='Additive'"
   ]
  },
  {
   "cell_type": "code",
   "execution_count": 69,
   "metadata": {
    "scrolled": true
   },
   "outputs": [
    {
     "data": {
      "application/vnd.jupyter.widget-view+json": {
       "model_id": "fcc0bc5e-f67f-4fc6-be6e-da3252d7c23a",
       "version_major": 2,
       "version_minor": 0
      },
      "method": "display_data"
     },
     "metadata": {},
     "output_type": "display_data"
    }
   ],
   "source": [
    "SELECT * FROM ingredients_group"
   ]
  },
  {
   "cell_type": "code",
   "execution_count": 75,
   "metadata": {},
   "outputs": [],
   "source": [
    "DROP VIEW IF EXISTS Ing_to_Foodb"
   ]
  },
  {
   "cell_type": "code",
   "execution_count": 76,
   "metadata": {},
   "outputs": [],
   "source": [
    "CREATE VIEW Ing_to_Foodb\n",
    "AS SELECT * \n",
    "FROM CSVREAD('../data/interim/Ingredients_to_Foodb_Groups.csv');"
   ]
  },
  {
   "cell_type": "code",
   "execution_count": 34,
   "metadata": {},
   "outputs": [
    {
     "data": {
      "application/vnd.jupyter.widget-view+json": {
       "model_id": "08855575-5ea1-4e6d-856e-b82760aaa042",
       "version_major": 2,
       "version_minor": 0
      },
      "method": "display_data"
     },
     "metadata": {},
     "output_type": "display_data"
    }
   ],
   "source": [
    "Select distinct food_group from Ing_to_foodb"
   ]
  },
  {
   "cell_type": "markdown",
   "metadata": {},
   "source": [
    "Aqui, utilizamos o comando para criar a tabela de relação e colocá-la na pasta desejada "
   ]
  },
  {
   "cell_type": "code",
   "execution_count": 77,
   "metadata": {},
   "outputs": [],
   "source": [
    "DROP TABLE IF EXISTS Ingredients_to_Foodb_Groups"
   ]
  },
  {
   "cell_type": "code",
   "execution_count": 78,
   "metadata": {},
   "outputs": [],
   "source": [
    "ALTER TABLE ingredients_group RENAME TO Ingredients_to_Foodb_Groups;"
   ]
  },
  {
   "cell_type": "code",
   "execution_count": 48,
   "metadata": {},
   "outputs": [
    {
     "data": {
      "text/plain": [
       "930"
      ]
     },
     "execution_count": 48,
     "metadata": {},
     "output_type": "execute_result"
    }
   ],
   "source": [
    "CALL CSVWRITE('../data/interim/Ingredients_to_Foodb_Groups.csv', 'SELECT * FROM Ingredients_to_Foodb_Groups');"
   ]
  }
 ],
 "metadata": {
  "kernelspec": {
   "display_name": "SQL",
   "language": "SQL",
   "name": "sql"
  },
  "language_info": {
   "codemirror_mode": "sql",
   "file_extension": ".sql",
   "mimetype": "",
   "name": "SQL",
   "nbconverter_exporter": "",
   "version": ""
  },
  "toc": {
   "base_numbering": 1,
   "nav_menu": {},
   "number_sections": false,
   "sideBar": false,
   "skip_h1_title": false,
   "title_cell": "Table of Contents",
   "title_sidebar": "Contents",
   "toc_cell": false,
   "toc_position": {},
   "toc_section_display": false,
   "toc_window_display": false
  }
 },
 "nbformat": 4,
 "nbformat_minor": 2
}
